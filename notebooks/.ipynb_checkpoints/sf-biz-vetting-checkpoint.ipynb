{
 "cells": [
  {
   "cell_type": "markdown",
   "id": "587ebc69-0cfe-457a-8303-2085e2760561",
   "metadata": {
    "tags": []
   },
   "source": [
    "# San Francisco Businesses: Boom or Bust?"
   ]
  },
  {
   "cell_type": "markdown",
   "id": "097b1282-c098-4217-b814-1bd6264d78b7",
   "metadata": {},
   "source": [
    "By Hannah Bassett and Hannah Freitag "
   ]
  },
  {
   "cell_type": "markdown",
   "id": "d89bfbf7-f9eb-4309-947a-d551bbacdd8a",
   "metadata": {},
   "source": [
    "### DATA VETTING"
   ]
  },
  {
   "cell_type": "markdown",
   "id": "56ac5657-f910-4552-85bd-31f8eaab64a0",
   "metadata": {},
   "source": [
    "### The Project"
   ]
  },
  {
   "cell_type": "markdown",
   "id": "c9e6e748-5e21-4569-9581-e79f2b94a913",
   "metadata": {},
   "source": [
    "The purpose of this project is to identify changes that occurred among San Francisco’s businesses during the COVID-19 pandemic. Our analysis of DataSF’s [Registered Business Locations](\"https://data.sfgov.org/Economy-and-Community/Registered-Business-Locations-San-Francisco/g8m3-pdis) dataset found that overall the number of business openings have decreased over the past five years–a trend that is reflected among restaurant openings, as well. The Financial District/South Beach experienced the most business openings, but the annual number of restaurant openings in the neighborhood are still not back to pre-pandemic levels. "
   ]
  },
  {
   "cell_type": "markdown",
   "id": "6e43d396-252d-4f39-a18c-903d9cacbbb1",
   "metadata": {},
   "source": [
    "___________________________________________________________________________________________________________________"
   ]
  },
  {
   "cell_type": "code",
   "execution_count": 1,
   "id": "67979fa1-2471-46bc-94c9-0a12e54cac5d",
   "metadata": {
    "tags": []
   },
   "outputs": [],
   "source": [
    "import pandas as pd\n",
    "import altair as alt"
   ]
  },
  {
   "cell_type": "code",
   "execution_count": 2,
   "id": "435cbafb-20a3-49cd-82a1-466919bcc6da",
   "metadata": {
    "tags": []
   },
   "outputs": [
    {
     "name": "stderr",
     "output_type": "stream",
     "text": [
      "/tmp/ipykernel_18480/3139850351.py:2: DtypeWarning: Columns (14,20,21) have mixed types. Specify dtype option on import or set low_memory=False.\n",
      "  sf_biz = pd.read_csv(\"https://data.sfgov.org/api/views/g8m3-pdis/rows.csv?accessType=DOWNLOAD\")\n"
     ]
    }
   ],
   "source": [
    "# Store csv data of Registered Business Locations as dataframe\n",
    "sf_biz = pd.read_csv(\"https://data.sfgov.org/api/views/g8m3-pdis/rows.csv?accessType=DOWNLOAD\")"
   ]
  },
  {
   "cell_type": "code",
   "execution_count": 3,
   "id": "6077c098-46f2-4340-9187-93c1340bdced",
   "metadata": {
    "tags": []
   },
   "outputs": [
    {
     "data": {
      "text/html": [
       "<div>\n",
       "<style scoped>\n",
       "    .dataframe tbody tr th:only-of-type {\n",
       "        vertical-align: middle;\n",
       "    }\n",
       "\n",
       "    .dataframe tbody tr th {\n",
       "        vertical-align: top;\n",
       "    }\n",
       "\n",
       "    .dataframe thead th {\n",
       "        text-align: right;\n",
       "    }\n",
       "</style>\n",
       "<table border=\"1\" class=\"dataframe\">\n",
       "  <thead>\n",
       "    <tr style=\"text-align: right;\">\n",
       "      <th></th>\n",
       "      <th>Location Id</th>\n",
       "      <th>Business Account Number</th>\n",
       "      <th>Ownership Name</th>\n",
       "      <th>DBA Name</th>\n",
       "      <th>Street Address</th>\n",
       "      <th>City</th>\n",
       "      <th>State</th>\n",
       "      <th>Source Zipcode</th>\n",
       "      <th>Business Start Date</th>\n",
       "      <th>Business End Date</th>\n",
       "      <th>...</th>\n",
       "      <th>Supervisor District</th>\n",
       "      <th>Neighborhoods - Analysis Boundaries</th>\n",
       "      <th>Business Corridor</th>\n",
       "      <th>Business Location</th>\n",
       "      <th>UniqueID</th>\n",
       "      <th>SF Find Neighborhoods</th>\n",
       "      <th>Current Police Districts</th>\n",
       "      <th>Current Supervisor Districts</th>\n",
       "      <th>Analysis Neighborhoods</th>\n",
       "      <th>Neighborhoods</th>\n",
       "    </tr>\n",
       "  </thead>\n",
       "  <tbody>\n",
       "    <tr>\n",
       "      <th>0</th>\n",
       "      <td>1248254-03-201</td>\n",
       "      <td>144332</td>\n",
       "      <td>Intl Training &amp; Exchange Inc</td>\n",
       "      <td>Altruecare</td>\n",
       "      <td>600 California St 10</td>\n",
       "      <td>San Francisco</td>\n",
       "      <td>CA</td>\n",
       "      <td>94108</td>\n",
       "      <td>10/01/1983</td>\n",
       "      <td>NaN</td>\n",
       "      <td>...</td>\n",
       "      <td>3.0</td>\n",
       "      <td>Chinatown</td>\n",
       "      <td>NaN</td>\n",
       "      <td>POINT (-122.40453 37.792652)</td>\n",
       "      <td>1248254-03-201-0144332-6100-6299-02-12-2020</td>\n",
       "      <td>104.0</td>\n",
       "      <td>6.0</td>\n",
       "      <td>3.0</td>\n",
       "      <td>6.0</td>\n",
       "      <td>104.0</td>\n",
       "    </tr>\n",
       "    <tr>\n",
       "      <th>1</th>\n",
       "      <td>1243044-01-201</td>\n",
       "      <td>144332</td>\n",
       "      <td>Intl Training &amp; Exchange Inc</td>\n",
       "      <td>Campcareusa</td>\n",
       "      <td>600 California St Fl 10</td>\n",
       "      <td>San Francisco</td>\n",
       "      <td>CA</td>\n",
       "      <td>94108</td>\n",
       "      <td>10/01/1983</td>\n",
       "      <td>NaN</td>\n",
       "      <td>...</td>\n",
       "      <td>3.0</td>\n",
       "      <td>Chinatown</td>\n",
       "      <td>NaN</td>\n",
       "      <td>POINT (-122.40453 37.792652)</td>\n",
       "      <td>1243044-01-201-0144332-6100-6299-01-15-2020</td>\n",
       "      <td>104.0</td>\n",
       "      <td>6.0</td>\n",
       "      <td>3.0</td>\n",
       "      <td>6.0</td>\n",
       "      <td>104.0</td>\n",
       "    </tr>\n",
       "    <tr>\n",
       "      <th>2</th>\n",
       "      <td>0002881-01-001</td>\n",
       "      <td>2881</td>\n",
       "      <td>Benson &amp; Neff-Cpas-A Prof Corp</td>\n",
       "      <td>Benson &amp; Neff-Cpas-A Prof Corp</td>\n",
       "      <td>1 Post St 2150</td>\n",
       "      <td>San Francisco</td>\n",
       "      <td>CA</td>\n",
       "      <td>94104</td>\n",
       "      <td>10/01/1968</td>\n",
       "      <td>08/31/2018</td>\n",
       "      <td>...</td>\n",
       "      <td>3.0</td>\n",
       "      <td>Financial District/South Beach</td>\n",
       "      <td>NaN</td>\n",
       "      <td>POINT (-122.40211 37.789062)</td>\n",
       "      <td>0002881-01-001-0002881--10-01-1996</td>\n",
       "      <td>19.0</td>\n",
       "      <td>6.0</td>\n",
       "      <td>3.0</td>\n",
       "      <td>8.0</td>\n",
       "      <td>19.0</td>\n",
       "    </tr>\n",
       "    <tr>\n",
       "      <th>3</th>\n",
       "      <td>0081230-01-001</td>\n",
       "      <td>81230</td>\n",
       "      <td>Li Raymond K Y Md Inc</td>\n",
       "      <td>Li Raymond K Y Md Inc</td>\n",
       "      <td>950 Stockton St Ste 205</td>\n",
       "      <td>San Francisco</td>\n",
       "      <td>CA</td>\n",
       "      <td>94108</td>\n",
       "      <td>01/01/1973</td>\n",
       "      <td>06/29/2022</td>\n",
       "      <td>...</td>\n",
       "      <td>3.0</td>\n",
       "      <td>Chinatown</td>\n",
       "      <td>NaN</td>\n",
       "      <td>POINT (-122.40796 37.794514)</td>\n",
       "      <td>0081230-01-001-0081230-6100-6299-01-01-1973</td>\n",
       "      <td>104.0</td>\n",
       "      <td>6.0</td>\n",
       "      <td>3.0</td>\n",
       "      <td>6.0</td>\n",
       "      <td>104.0</td>\n",
       "    </tr>\n",
       "    <tr>\n",
       "      <th>4</th>\n",
       "      <td>0030032-30-001</td>\n",
       "      <td>30032</td>\n",
       "      <td>Walgreen Co</td>\n",
       "      <td>Walgreens #11385</td>\n",
       "      <td>1580 Valencia St Ste 101</td>\n",
       "      <td>San Francisco</td>\n",
       "      <td>CA</td>\n",
       "      <td>94110</td>\n",
       "      <td>10/01/1968</td>\n",
       "      <td>NaN</td>\n",
       "      <td>...</td>\n",
       "      <td>9.0</td>\n",
       "      <td>Bernal Heights</td>\n",
       "      <td>NaN</td>\n",
       "      <td>POINT (-122.420265 37.747643)</td>\n",
       "      <td>0030032-30-001-0030032-4400-4599-05-07-2007</td>\n",
       "      <td>83.0</td>\n",
       "      <td>9.0</td>\n",
       "      <td>2.0</td>\n",
       "      <td>2.0</td>\n",
       "      <td>83.0</td>\n",
       "    </tr>\n",
       "  </tbody>\n",
       "</table>\n",
       "<p>5 rows × 32 columns</p>\n",
       "</div>"
      ],
      "text/plain": [
       "      Location Id  Business Account Number                  Ownership Name  \\\n",
       "0  1248254-03-201                   144332    Intl Training & Exchange Inc   \n",
       "1  1243044-01-201                   144332    Intl Training & Exchange Inc   \n",
       "2  0002881-01-001                     2881  Benson & Neff-Cpas-A Prof Corp   \n",
       "3  0081230-01-001                    81230           Li Raymond K Y Md Inc   \n",
       "4  0030032-30-001                    30032                     Walgreen Co   \n",
       "\n",
       "                         DBA Name            Street Address           City  \\\n",
       "0                      Altruecare      600 California St 10  San Francisco   \n",
       "1                     Campcareusa   600 California St Fl 10  San Francisco   \n",
       "2  Benson & Neff-Cpas-A Prof Corp            1 Post St 2150  San Francisco   \n",
       "3           Li Raymond K Y Md Inc   950 Stockton St Ste 205  San Francisco   \n",
       "4                Walgreens #11385  1580 Valencia St Ste 101  San Francisco   \n",
       "\n",
       "  State Source Zipcode Business Start Date Business End Date  ...  \\\n",
       "0    CA          94108          10/01/1983               NaN  ...   \n",
       "1    CA          94108          10/01/1983               NaN  ...   \n",
       "2    CA          94104          10/01/1968        08/31/2018  ...   \n",
       "3    CA          94108          01/01/1973        06/29/2022  ...   \n",
       "4    CA          94110          10/01/1968               NaN  ...   \n",
       "\n",
       "  Supervisor District Neighborhoods - Analysis Boundaries Business Corridor  \\\n",
       "0                 3.0                           Chinatown               NaN   \n",
       "1                 3.0                           Chinatown               NaN   \n",
       "2                 3.0      Financial District/South Beach               NaN   \n",
       "3                 3.0                           Chinatown               NaN   \n",
       "4                 9.0                      Bernal Heights               NaN   \n",
       "\n",
       "               Business Location                                     UniqueID  \\\n",
       "0   POINT (-122.40453 37.792652)  1248254-03-201-0144332-6100-6299-02-12-2020   \n",
       "1   POINT (-122.40453 37.792652)  1243044-01-201-0144332-6100-6299-01-15-2020   \n",
       "2   POINT (-122.40211 37.789062)           0002881-01-001-0002881--10-01-1996   \n",
       "3   POINT (-122.40796 37.794514)  0081230-01-001-0081230-6100-6299-01-01-1973   \n",
       "4  POINT (-122.420265 37.747643)  0030032-30-001-0030032-4400-4599-05-07-2007   \n",
       "\n",
       "  SF Find Neighborhoods Current Police Districts Current Supervisor Districts  \\\n",
       "0                 104.0                      6.0                          3.0   \n",
       "1                 104.0                      6.0                          3.0   \n",
       "2                  19.0                      6.0                          3.0   \n",
       "3                 104.0                      6.0                          3.0   \n",
       "4                  83.0                      9.0                          2.0   \n",
       "\n",
       "   Analysis Neighborhoods  Neighborhoods  \n",
       "0                     6.0          104.0  \n",
       "1                     6.0          104.0  \n",
       "2                     8.0           19.0  \n",
       "3                     6.0          104.0  \n",
       "4                     2.0           83.0  \n",
       "\n",
       "[5 rows x 32 columns]"
      ]
     },
     "execution_count": 3,
     "metadata": {},
     "output_type": "execute_result"
    }
   ],
   "source": [
    "# View the first few rows to assess import and column headers\n",
    "sf_biz.head()"
   ]
  },
  {
   "cell_type": "code",
   "execution_count": 6,
   "id": "c69ba51e-bf48-4770-bc21-a47709750573",
   "metadata": {
    "tags": []
   },
   "outputs": [],
   "source": [
    "# Create new variable for location start year\n",
    "sf_biz[\"Start_Year\"] = sf_biz[\"Location Start Date\"].str[-4:].astype(int)"
   ]
  },
  {
   "cell_type": "code",
   "execution_count": 7,
   "id": "b0125676-e0ea-4bac-8f3b-6cbf8a02001e",
   "metadata": {
    "tags": []
   },
   "outputs": [],
   "source": [
    "# Filter dataframe to limit business openings to the past five years (2018-2022) \n",
    "sf_biz_18_22 = sf_biz[(sf_biz.Start_Year >= 2018) & (sf_biz.Start_Year <= 2022)]"
   ]
  },
  {
   "cell_type": "code",
   "execution_count": 8,
   "id": "27d6a065-65d0-4fd4-9035-2343e89acd31",
   "metadata": {
    "tags": []
   },
   "outputs": [],
   "source": [
    "# Rename \"Neighborhoods - Analysis Boundaries\" to \"Neighborhoods\"\n",
    "sf_biz_18_22 = sf_biz_18_22.rename(columns={\"Neighborhoods - Analysis Boundaries\": \"Hoods\"})"
   ]
  },
  {
   "cell_type": "code",
   "execution_count": 9,
   "id": "ac46bc19-6833-4640-8d24-46ee83bf61e5",
   "metadata": {
    "tags": []
   },
   "outputs": [
    {
     "name": "stdout",
     "output_type": "stream",
     "text": [
      "<class 'pandas.core.frame.DataFrame'>\n",
      "Int64Index: 80771 entries, 0 to 304849\n",
      "Data columns (total 33 columns):\n",
      " #   Column                        Non-Null Count  Dtype  \n",
      "---  ------                        --------------  -----  \n",
      " 0   Location Id                   80771 non-null  object \n",
      " 1   Business Account Number       80771 non-null  int64  \n",
      " 2   Ownership Name                80771 non-null  object \n",
      " 3   DBA Name                      80771 non-null  object \n",
      " 4   Street Address                80770 non-null  object \n",
      " 5   City                          80768 non-null  object \n",
      " 6   State                         80751 non-null  object \n",
      " 7   Source Zipcode                80654 non-null  object \n",
      " 8   Business Start Date           80771 non-null  object \n",
      " 9   Business End Date             22595 non-null  object \n",
      " 10  Location Start Date           80771 non-null  object \n",
      " 11  Location End Date             30459 non-null  object \n",
      " 12  Mail Address                  60491 non-null  object \n",
      " 13  Mail City                     58166 non-null  object \n",
      " 14  Mail Zipcode                  58165 non-null  object \n",
      " 15  Mail State                    58140 non-null  object \n",
      " 16  NAICS Code                    65002 non-null  object \n",
      " 17  NAICS Code Description        65002 non-null  object \n",
      " 18  Parking Tax                   80771 non-null  bool   \n",
      " 19  Transient Occupancy Tax       80771 non-null  bool   \n",
      " 20  LIC Code                      4659 non-null   object \n",
      " 21  LIC Code Description          4269 non-null   object \n",
      " 22  Supervisor District           64529 non-null  float64\n",
      " 23  Hoods                         64525 non-null  object \n",
      " 24  Business Corridor             661 non-null    object \n",
      " 25  Business Location             80732 non-null  object \n",
      " 26  UniqueID                      80771 non-null  object \n",
      " 27  SF Find Neighborhoods         64528 non-null  float64\n",
      " 28  Current Police Districts      64175 non-null  float64\n",
      " 29  Current Supervisor Districts  64529 non-null  float64\n",
      " 30  Analysis Neighborhoods        64525 non-null  float64\n",
      " 31  Neighborhoods                 64528 non-null  float64\n",
      " 32  Start_Year                    80771 non-null  int64  \n",
      "dtypes: bool(2), float64(6), int64(2), object(23)\n",
      "memory usage: 19.9+ MB\n"
     ]
    }
   ],
   "source": [
    "# Review all column headers\n",
    "sf_biz_18_22.info()"
   ]
  },
  {
   "cell_type": "code",
   "execution_count": 10,
   "id": "536506b8-aa0f-4aec-a0c1-31d58185eab5",
   "metadata": {
    "tags": []
   },
   "outputs": [],
   "source": [
    "# Create a second dataframe with all for all entries with license code (LIC Code)\n",
    "# Drop entries with missing values for license code\n",
    "sf_biz_industry = sf_biz_18_22.dropna(subset=['LIC Code'])"
   ]
  },
  {
   "cell_type": "code",
   "execution_count": 11,
   "id": "9da4cd10-e5e3-4881-b082-f460f5fe977a",
   "metadata": {
    "tags": []
   },
   "outputs": [
    {
     "name": "stdout",
     "output_type": "stream",
     "text": [
      "<class 'pandas.core.frame.DataFrame'>\n",
      "Int64Index: 4659 entries, 15 to 304830\n",
      "Data columns (total 33 columns):\n",
      " #   Column                        Non-Null Count  Dtype  \n",
      "---  ------                        --------------  -----  \n",
      " 0   Location Id                   4659 non-null   object \n",
      " 1   Business Account Number       4659 non-null   int64  \n",
      " 2   Ownership Name                4659 non-null   object \n",
      " 3   DBA Name                      4659 non-null   object \n",
      " 4   Street Address                4659 non-null   object \n",
      " 5   City                          4659 non-null   object \n",
      " 6   State                         4656 non-null   object \n",
      " 7   Source Zipcode                4600 non-null   object \n",
      " 8   Business Start Date           4659 non-null   object \n",
      " 9   Business End Date             306 non-null    object \n",
      " 10  Location Start Date           4659 non-null   object \n",
      " 11  Location End Date             483 non-null    object \n",
      " 12  Mail Address                  4367 non-null   object \n",
      " 13  Mail City                     4353 non-null   object \n",
      " 14  Mail Zipcode                  4353 non-null   object \n",
      " 15  Mail State                    4352 non-null   object \n",
      " 16  NAICS Code                    3446 non-null   object \n",
      " 17  NAICS Code Description        3446 non-null   object \n",
      " 18  Parking Tax                   4659 non-null   bool   \n",
      " 19  Transient Occupancy Tax       4659 non-null   bool   \n",
      " 20  LIC Code                      4659 non-null   object \n",
      " 21  LIC Code Description          4269 non-null   object \n",
      " 22  Supervisor District           4382 non-null   float64\n",
      " 23  Hoods                         4381 non-null   object \n",
      " 24  Business Corridor             72 non-null     object \n",
      " 25  Business Location             4655 non-null   object \n",
      " 26  UniqueID                      4659 non-null   object \n",
      " 27  SF Find Neighborhoods         4381 non-null   float64\n",
      " 28  Current Police Districts      4380 non-null   float64\n",
      " 29  Current Supervisor Districts  4381 non-null   float64\n",
      " 30  Analysis Neighborhoods        4381 non-null   float64\n",
      " 31  Neighborhoods                 4381 non-null   float64\n",
      " 32  Start_Year                    4659 non-null   int64  \n",
      "dtypes: bool(2), float64(6), int64(2), object(23)\n",
      "memory usage: 1.1+ MB\n"
     ]
    }
   ],
   "source": [
    "# Review drop of entries with missing values for license code\n",
    "sf_biz_industry.info()"
   ]
  },
  {
   "cell_type": "markdown",
   "id": "eb539e2e-a19e-4839-a559-93d3cf129c2e",
   "metadata": {},
   "source": [
    "The new dataframe which consists of a subset of the complete data and filter by year contains 4,659 rows that have complete columns for (1) Location Start Date, (2) LIC Code, and (3) Start Year, and 4,381 complete rows for neighborhoods (\"Hoods\")."
   ]
  },
  {
   "cell_type": "code",
   "execution_count": 12,
   "id": "9c8ceec9-6f67-4c86-a6ac-cd452d98cf1a",
   "metadata": {
    "tags": []
   },
   "outputs": [],
   "source": [
    "# Storing dataframes as CSV\n",
    "sf_biz_18_22.to_csv('sf_biz_18_22.csv')\n",
    "sf_biz_industry.to_csv('sf_biz_industry.csv')"
   ]
  }
 ],
 "metadata": {
  "kernelspec": {
   "display_name": "Python 3 (ipykernel)",
   "language": "python",
   "name": "python3"
  },
  "language_info": {
   "codemirror_mode": {
    "name": "ipython",
    "version": 3
   },
   "file_extension": ".py",
   "mimetype": "text/x-python",
   "name": "python",
   "nbconvert_exporter": "python",
   "pygments_lexer": "ipython3",
   "version": "3.10.9"
  }
 },
 "nbformat": 4,
 "nbformat_minor": 5
}
