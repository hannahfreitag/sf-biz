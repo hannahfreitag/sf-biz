{
 "cells": [
  {
   "cell_type": "markdown",
   "id": "587ebc69-0cfe-457a-8303-2085e2760561",
   "metadata": {
    "tags": []
   },
   "source": [
    "# San Francisco Businesses: Boom or Bust?"
   ]
  },
  {
   "cell_type": "markdown",
   "id": "097b1282-c098-4217-b814-1bd6264d78b7",
   "metadata": {},
   "source": [
    "By Hannah Bassett and Hannah Freitag "
   ]
  },
  {
   "cell_type": "markdown",
   "id": "d89bfbf7-f9eb-4309-947a-d551bbacdd8a",
   "metadata": {},
   "source": [
    "### DATA PREP AND VETTING"
   ]
  },
  {
   "cell_type": "markdown",
   "id": "56ac5657-f910-4552-85bd-31f8eaab64a0",
   "metadata": {},
   "source": [
    "### The Project"
   ]
  },
  {
   "cell_type": "markdown",
   "id": "c9e6e748-5e21-4569-9581-e79f2b94a913",
   "metadata": {},
   "source": [
    "The purpose of this project is to identify changes that occurred among San Francisco’s businesses during the COVID-19 pandemic. Our analysis of DataSF’s [Registered Business Locations](\"https://data.sfgov.org/Economy-and-Community/Registered-Business-Locations-San-Francisco/g8m3-pdis\") dataset found that overall the number of business openings have decreased over the past five years – a trend that is reflected among restaurant openings, as well. The Financial District/South Beach neighborhood experienced the most business openings, but the annual number of restaurant openings in the neighborhood is still not back to pre-pandemic levels. "
   ]
  },
  {
   "cell_type": "markdown",
   "id": "4ca66bdf-a72d-4016-b81b-179466bd091f",
   "metadata": {},
   "source": [
    "### The Premise"
   ]
  },
  {
   "cell_type": "markdown",
   "id": "d3257e9c-ad40-4dff-ad0a-90f7e7a18d66",
   "metadata": {},
   "source": [
    "Cities are the epicenter of COVID-19’s impact in the United States, and San Francisco is no exception. In the three years since San Francisco issued its first [Stay Home](\"https://sf.gov/news/sf-expands-stay-home-order-response-coronavirus-outbreak\") order, life in SF has largely returned to its pre-pandemic ways, with one notable exception: [business activity in San Francisco has stalled](\"https://downtownrecovery.com/death_of_downtown_policy_brief.pdf\") at 30% of pre-pandemic levels. The New York Times [dubbed](\"https://www.nytimes.com/2023/02/09/podcasts/the-daily/san-francisco-downtown-pandemic.html\") San Francisco “the most empty downtown in America.” "
   ]
  },
  {
   "cell_type": "markdown",
   "id": "9c108c41-ab13-4dd3-be1a-0ea9110edbb4",
   "metadata": {
    "tags": []
   },
   "source": [
    "Our project used the SF business location data to answer four discrete quantifiable questions about the pandemic’s impact on SF businesses, zooming in on SF restaurants and neighborhoods from 2018 to 2022: \n",
    "1. Has the number of annual business openings increased?\n",
    "2. In which neighborhoods have occurred the most openings?\n",
    "3. How have restaurant openings changed throughout the course of the pandemic?\n",
    "4. How have restaurant openings changed in the three neighborhoods with the most restaurants?"
   ]
  },
  {
   "cell_type": "markdown",
   "id": "7a27d866-9c25-44ca-a84f-9c664c2c5dca",
   "metadata": {},
   "source": [
    "### The Data"
   ]
  },
  {
   "cell_type": "markdown",
   "id": "54f0aba1-bc6b-4907-b8a1-3ec4ac9f22e0",
   "metadata": {},
   "source": [
    "We analyzed [Registered Business Locations - San Francisco](\"https://data.sfgov.org/Economy-and-Community/Registered-Business-Locations-San-Francisco/g8m3-pdis\") data, collected by the Treasurer & Tax Collector’s Office and hosted on DataSF. The dataset includes 27 data fields, as defined by the [data dictionary](\"https://data.sfgov.org/Economy-and-Community/Registered-Business-Locations-San-Francisco/g8m3-pdis#:~:text=Columns%20in%20this%20Dataset\"). \n",
    "\n",
    "The dataset has several limitations, as identified in our interviews with the Treasurer & Tax Collector’s Office. First and foremost, this data is self-reported for tax purposes and thus comes with the usual caveats related to accuracy and thoroughness. For example, the `Closing date` field could be blank because the business location is still open or simply because the business forgot to update their records with the Treasurer & Tax Collector’s Office when they shut down that location. Additionally, several fields in the data reflect the parent business, which can differ from that of the business location listed in the data. For example, the `NAICS` column includes codes that identify a business’ sector, but that categorization could reflect the parent company’s categorization worldwide, not necessarily specific to the SF business location’s activities. \n",
    "\n",
    "Mindful of these limitations, we narrowed our analysis to key fields in the dataset with high reliability: `Location Start Date`, `LIC (license codes)`, and `Neighborhood - Analysis Boundaries (neighborhood)`. \n"
   ]
  },
  {
   "cell_type": "markdown",
   "id": "21548374-c207-45b5-b85c-e2465eb2d2f6",
   "metadata": {},
   "source": [
    "### Data Import"
   ]
  },
  {
   "cell_type": "markdown",
   "id": "8e2e122c-5ee3-41a7-9cc7-4a4516b46561",
   "metadata": {},
   "source": [
    "The dataset “Registered Business Locations - San Francisco” is available on DataSF’s portal. "
   ]
  },
  {
   "cell_type": "markdown",
   "id": "ed03ac77-cd62-4762-8708-9cd2c9828f71",
   "metadata": {},
   "source": [
    "___________________________________________________________________________________________________________________"
   ]
  },
  {
   "cell_type": "code",
   "execution_count": 14,
   "id": "67979fa1-2471-46bc-94c9-0a12e54cac5d",
   "metadata": {
    "tags": []
   },
   "outputs": [],
   "source": [
    "import pandas as pd\n",
    "import altair as alt\n",
    "from datetime import datetime"
   ]
  },
  {
   "cell_type": "code",
   "execution_count": 15,
   "id": "435cbafb-20a3-49cd-82a1-466919bcc6da",
   "metadata": {
    "tags": []
   },
   "outputs": [
    {
     "name": "stderr",
     "output_type": "stream",
     "text": [
      "/tmp/ipykernel_21479/3139850351.py:2: DtypeWarning: Columns (14) have mixed types. Specify dtype option on import or set low_memory=False.\n",
      "  sf_biz = pd.read_csv(\"https://data.sfgov.org/api/views/g8m3-pdis/rows.csv?accessType=DOWNLOAD\")\n"
     ]
    }
   ],
   "source": [
    "# Store csv data of Registered Business Locations as dataframe\n",
    "sf_biz = pd.read_csv(\"https://data.sfgov.org/api/views/g8m3-pdis/rows.csv?accessType=DOWNLOAD\")"
   ]
  },
  {
   "cell_type": "code",
   "execution_count": 16,
   "id": "6077c098-46f2-4340-9187-93c1340bdced",
   "metadata": {
    "tags": []
   },
   "outputs": [
    {
     "data": {
      "text/html": [
       "<div>\n",
       "<style scoped>\n",
       "    .dataframe tbody tr th:only-of-type {\n",
       "        vertical-align: middle;\n",
       "    }\n",
       "\n",
       "    .dataframe tbody tr th {\n",
       "        vertical-align: top;\n",
       "    }\n",
       "\n",
       "    .dataframe thead th {\n",
       "        text-align: right;\n",
       "    }\n",
       "</style>\n",
       "<table border=\"1\" class=\"dataframe\">\n",
       "  <thead>\n",
       "    <tr style=\"text-align: right;\">\n",
       "      <th></th>\n",
       "      <th>Location Id</th>\n",
       "      <th>Business Account Number</th>\n",
       "      <th>Ownership Name</th>\n",
       "      <th>DBA Name</th>\n",
       "      <th>Street Address</th>\n",
       "      <th>City</th>\n",
       "      <th>State</th>\n",
       "      <th>Source Zipcode</th>\n",
       "      <th>Business Start Date</th>\n",
       "      <th>Business End Date</th>\n",
       "      <th>...</th>\n",
       "      <th>Supervisor District</th>\n",
       "      <th>Neighborhoods - Analysis Boundaries</th>\n",
       "      <th>Business Corridor</th>\n",
       "      <th>Business Location</th>\n",
       "      <th>UniqueID</th>\n",
       "      <th>SF Find Neighborhoods</th>\n",
       "      <th>Current Police Districts</th>\n",
       "      <th>Current Supervisor Districts</th>\n",
       "      <th>Analysis Neighborhoods</th>\n",
       "      <th>Neighborhoods</th>\n",
       "    </tr>\n",
       "  </thead>\n",
       "  <tbody>\n",
       "    <tr>\n",
       "      <th>0</th>\n",
       "      <td>1248254-03-201</td>\n",
       "      <td>144332</td>\n",
       "      <td>Intl Training &amp; Exchange Inc</td>\n",
       "      <td>Altruecare</td>\n",
       "      <td>600 California St 10</td>\n",
       "      <td>San Francisco</td>\n",
       "      <td>CA</td>\n",
       "      <td>94108</td>\n",
       "      <td>10/01/1983</td>\n",
       "      <td>NaN</td>\n",
       "      <td>...</td>\n",
       "      <td>3.0</td>\n",
       "      <td>Chinatown</td>\n",
       "      <td>NaN</td>\n",
       "      <td>POINT (-122.40453 37.792652)</td>\n",
       "      <td>1248254-03-201-0144332-6100-6299-02-12-2020</td>\n",
       "      <td>104.0</td>\n",
       "      <td>6.0</td>\n",
       "      <td>3.0</td>\n",
       "      <td>6.0</td>\n",
       "      <td>104.0</td>\n",
       "    </tr>\n",
       "    <tr>\n",
       "      <th>1</th>\n",
       "      <td>1243044-01-201</td>\n",
       "      <td>144332</td>\n",
       "      <td>Intl Training &amp; Exchange Inc</td>\n",
       "      <td>Campcareusa</td>\n",
       "      <td>600 California St Fl 10</td>\n",
       "      <td>San Francisco</td>\n",
       "      <td>CA</td>\n",
       "      <td>94108</td>\n",
       "      <td>10/01/1983</td>\n",
       "      <td>NaN</td>\n",
       "      <td>...</td>\n",
       "      <td>3.0</td>\n",
       "      <td>Chinatown</td>\n",
       "      <td>NaN</td>\n",
       "      <td>POINT (-122.40453 37.792652)</td>\n",
       "      <td>1243044-01-201-0144332-6100-6299-01-15-2020</td>\n",
       "      <td>104.0</td>\n",
       "      <td>6.0</td>\n",
       "      <td>3.0</td>\n",
       "      <td>6.0</td>\n",
       "      <td>104.0</td>\n",
       "    </tr>\n",
       "  </tbody>\n",
       "</table>\n",
       "<p>2 rows × 32 columns</p>\n",
       "</div>"
      ],
      "text/plain": [
       "      Location Id  Business Account Number                Ownership Name  \\\n",
       "0  1248254-03-201                   144332  Intl Training & Exchange Inc   \n",
       "1  1243044-01-201                   144332  Intl Training & Exchange Inc   \n",
       "\n",
       "      DBA Name           Street Address           City State Source Zipcode  \\\n",
       "0   Altruecare     600 California St 10  San Francisco    CA          94108   \n",
       "1  Campcareusa  600 California St Fl 10  San Francisco    CA          94108   \n",
       "\n",
       "  Business Start Date Business End Date  ... Supervisor District  \\\n",
       "0          10/01/1983               NaN  ...                 3.0   \n",
       "1          10/01/1983               NaN  ...                 3.0   \n",
       "\n",
       "  Neighborhoods - Analysis Boundaries Business Corridor  \\\n",
       "0                           Chinatown               NaN   \n",
       "1                           Chinatown               NaN   \n",
       "\n",
       "              Business Location                                     UniqueID  \\\n",
       "0  POINT (-122.40453 37.792652)  1248254-03-201-0144332-6100-6299-02-12-2020   \n",
       "1  POINT (-122.40453 37.792652)  1243044-01-201-0144332-6100-6299-01-15-2020   \n",
       "\n",
       "  SF Find Neighborhoods Current Police Districts Current Supervisor Districts  \\\n",
       "0                 104.0                      6.0                          3.0   \n",
       "1                 104.0                      6.0                          3.0   \n",
       "\n",
       "   Analysis Neighborhoods  Neighborhoods  \n",
       "0                     6.0          104.0  \n",
       "1                     6.0          104.0  \n",
       "\n",
       "[2 rows x 32 columns]"
      ]
     },
     "execution_count": 16,
     "metadata": {},
     "output_type": "execute_result"
    }
   ],
   "source": [
    "# View the first few rows to assess import and column headers\n",
    "sf_biz.head(2)"
   ]
  },
  {
   "cell_type": "code",
   "execution_count": 17,
   "id": "c7759a2f-4501-41c6-ae94-d6269170b23c",
   "metadata": {
    "tags": []
   },
   "outputs": [
    {
     "name": "stdout",
     "output_type": "stream",
     "text": [
      "<class 'pandas.core.frame.DataFrame'>\n",
      "RangeIndex: 304850 entries, 0 to 304849\n",
      "Data columns (total 32 columns):\n",
      " #   Column                               Non-Null Count   Dtype  \n",
      "---  ------                               --------------   -----  \n",
      " 0   Location Id                          304850 non-null  object \n",
      " 1   Business Account Number              304850 non-null  int64  \n",
      " 2   Ownership Name                       304850 non-null  object \n",
      " 3   DBA Name                             304850 non-null  object \n",
      " 4   Street Address                       304845 non-null  object \n",
      " 5   City                                 304654 non-null  object \n",
      " 6   State                                304218 non-null  object \n",
      " 7   Source Zipcode                       304641 non-null  object \n",
      " 8   Business Start Date                  304850 non-null  object \n",
      " 9   Business End Date                    150746 non-null  object \n",
      " 10  Location Start Date                  304850 non-null  object \n",
      " 11  Location End Date                    183029 non-null  object \n",
      " 12  Mail Address                         190783 non-null  object \n",
      " 13  Mail City                            154076 non-null  object \n",
      " 14  Mail Zipcode                         154068 non-null  object \n",
      " 15  Mail State                           154006 non-null  object \n",
      " 16  NAICS Code                           177769 non-null  object \n",
      " 17  NAICS Code Description               177769 non-null  object \n",
      " 18  Parking Tax                          304850 non-null  bool   \n",
      " 19  Transient Occupancy Tax              304850 non-null  bool   \n",
      " 20  LIC Code                             14147 non-null   object \n",
      " 21  LIC Code Description                 13291 non-null   object \n",
      " 22  Supervisor District                  249205 non-null  float64\n",
      " 23  Neighborhoods - Analysis Boundaries  249190 non-null  object \n",
      " 24  Business Corridor                    2136 non-null    object \n",
      " 25  Business Location                    304790 non-null  object \n",
      " 26  UniqueID                             304850 non-null  object \n",
      " 27  SF Find Neighborhoods                249202 non-null  float64\n",
      " 28  Current Police Districts             248008 non-null  float64\n",
      " 29  Current Supervisor Districts         249208 non-null  float64\n",
      " 30  Analysis Neighborhoods               249190 non-null  float64\n",
      " 31  Neighborhoods                        249202 non-null  float64\n",
      "dtypes: bool(2), float64(6), int64(1), object(23)\n",
      "memory usage: 70.4+ MB\n"
     ]
    }
   ],
   "source": [
    "sf_biz.info()"
   ]
  },
  {
   "cell_type": "code",
   "execution_count": 18,
   "id": "c69ba51e-bf48-4770-bc21-a47709750573",
   "metadata": {
    "tags": []
   },
   "outputs": [],
   "source": [
    "# Create new variable for location start year\n",
    "sf_biz[\"Start_Year\"] = sf_biz[\"Location Start Date\"].str[-4:].astype(int)"
   ]
  },
  {
   "cell_type": "code",
   "execution_count": 19,
   "id": "b0125676-e0ea-4bac-8f3b-6cbf8a02001e",
   "metadata": {
    "tags": []
   },
   "outputs": [],
   "source": [
    "# Filter dataframe to limit business openings to the past five years (2018-2022) \n",
    "sf_biz_18_22 = sf_biz[(sf_biz.Start_Year >= 2018) & (sf_biz.Start_Year <= 2022)]"
   ]
  },
  {
   "cell_type": "code",
   "execution_count": 20,
   "id": "27d6a065-65d0-4fd4-9035-2343e89acd31",
   "metadata": {
    "tags": []
   },
   "outputs": [],
   "source": [
    "# Rename \"Neighborhoods - Analysis Boundaries\" to \"Hoods\"\n",
    "sf_biz_18_22 = sf_biz_18_22.rename(columns={\"Neighborhoods - Analysis Boundaries\": \"Hoods\"})"
   ]
  },
  {
   "cell_type": "code",
   "execution_count": 21,
   "id": "ac46bc19-6833-4640-8d24-46ee83bf61e5",
   "metadata": {
    "tags": []
   },
   "outputs": [
    {
     "name": "stdout",
     "output_type": "stream",
     "text": [
      "<class 'pandas.core.frame.DataFrame'>\n",
      "Int64Index: 80771 entries, 0 to 304849\n",
      "Data columns (total 33 columns):\n",
      " #   Column                        Non-Null Count  Dtype  \n",
      "---  ------                        --------------  -----  \n",
      " 0   Location Id                   80771 non-null  object \n",
      " 1   Business Account Number       80771 non-null  int64  \n",
      " 2   Ownership Name                80771 non-null  object \n",
      " 3   DBA Name                      80771 non-null  object \n",
      " 4   Street Address                80770 non-null  object \n",
      " 5   City                          80768 non-null  object \n",
      " 6   State                         80751 non-null  object \n",
      " 7   Source Zipcode                80654 non-null  object \n",
      " 8   Business Start Date           80771 non-null  object \n",
      " 9   Business End Date             22595 non-null  object \n",
      " 10  Location Start Date           80771 non-null  object \n",
      " 11  Location End Date             30459 non-null  object \n",
      " 12  Mail Address                  60491 non-null  object \n",
      " 13  Mail City                     58166 non-null  object \n",
      " 14  Mail Zipcode                  58165 non-null  object \n",
      " 15  Mail State                    58140 non-null  object \n",
      " 16  NAICS Code                    65002 non-null  object \n",
      " 17  NAICS Code Description        65002 non-null  object \n",
      " 18  Parking Tax                   80771 non-null  bool   \n",
      " 19  Transient Occupancy Tax       80771 non-null  bool   \n",
      " 20  LIC Code                      4659 non-null   object \n",
      " 21  LIC Code Description          4269 non-null   object \n",
      " 22  Supervisor District           64529 non-null  float64\n",
      " 23  Hoods                         64525 non-null  object \n",
      " 24  Business Corridor             661 non-null    object \n",
      " 25  Business Location             80732 non-null  object \n",
      " 26  UniqueID                      80771 non-null  object \n",
      " 27  SF Find Neighborhoods         64528 non-null  float64\n",
      " 28  Current Police Districts      64175 non-null  float64\n",
      " 29  Current Supervisor Districts  64529 non-null  float64\n",
      " 30  Analysis Neighborhoods        64525 non-null  float64\n",
      " 31  Neighborhoods                 64528 non-null  float64\n",
      " 32  Start_Year                    80771 non-null  int64  \n",
      "dtypes: bool(2), float64(6), int64(2), object(23)\n",
      "memory usage: 19.9+ MB\n"
     ]
    }
   ],
   "source": [
    "# Review all column headers\n",
    "sf_biz_18_22.info()"
   ]
  },
  {
   "cell_type": "code",
   "execution_count": 22,
   "id": "536506b8-aa0f-4aec-a0c1-31d58185eab5",
   "metadata": {
    "tags": []
   },
   "outputs": [],
   "source": [
    "# Create a second dataframe that includes all business locations that have a license (LIC Code)\n",
    "sf_biz_industry = sf_biz_18_22.dropna(subset=['LIC Code'])"
   ]
  },
  {
   "cell_type": "markdown",
   "id": "eb539e2e-a19e-4839-a559-93d3cf129c2e",
   "metadata": {},
   "source": [
    "The new dataframe, which consists of a subset of the complete data (2018-2022) contains 4,659 rows that have complete columns for (1) Location Start Date, (2) LIC Code, and (3) Start Year, and 4,381 complete rows for neighborhoods (\"Hoods\"). \n",
    "\n",
    "We recognize that this is a small dataset, however from our interviews with experts we know that this is complete and highly reliable data that will support our analysis."
   ]
  },
  {
   "cell_type": "code",
   "execution_count": 23,
   "id": "9c8ceec9-6f67-4c86-a6ac-cd452d98cf1a",
   "metadata": {
    "tags": []
   },
   "outputs": [],
   "source": [
    "# Storing dataframes as CSV\n",
    "sf_biz_18_22.to_csv('sf_biz_18_22.csv')\n",
    "sf_biz_industry.to_csv('sf_biz_industry.csv')"
   ]
  }
 ],
 "metadata": {
  "kernelspec": {
   "display_name": "Python 3 (ipykernel)",
   "language": "python",
   "name": "python3"
  },
  "language_info": {
   "codemirror_mode": {
    "name": "ipython",
    "version": 3
   },
   "file_extension": ".py",
   "mimetype": "text/x-python",
   "name": "python",
   "nbconvert_exporter": "python",
   "pygments_lexer": "ipython3",
   "version": "3.10.9"
  }
 },
 "nbformat": 4,
 "nbformat_minor": 5
}
