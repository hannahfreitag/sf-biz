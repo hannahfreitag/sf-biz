{
 "cells": [
  {
   "cell_type": "markdown",
   "id": "0546835a-2d6f-458e-930d-e5c93539a4a4",
   "metadata": {
    "tags": []
   },
   "source": [
    "# San Francisco Businesses: Boom or Bust?"
   ]
  },
  {
   "cell_type": "markdown",
   "id": "6acece7d-b2fe-4866-a441-0627a1a3dbc4",
   "metadata": {},
   "source": [
    "By Hannah Bassett and Hannah Freitag "
   ]
  },
  {
   "cell_type": "markdown",
   "id": "50031a62-c993-41ce-aa96-8c586c23e82a",
   "metadata": {},
   "source": [
    "### DATA PREP"
   ]
  },
  {
   "cell_type": "markdown",
   "id": "87ac1e93-76c8-479d-9596-bdb4ef39cf88",
   "metadata": {},
   "source": [
    "### The Project"
   ]
  },
  {
   "cell_type": "markdown",
   "id": "889e6a90-9cd8-4a3f-a1b1-ded2e2045e65",
   "metadata": {},
   "source": [
    "The purpose of this project is to identify changes that occurred among San Francisco’s businesses during the COVID-19 pandemic. Our analysis of DataSF’s [Registered Business Locations](\"https://data.sfgov.org/Economy-and-Community/Registered-Business-Locations-San-Francisco/g8m3-pdis) dataset found that overall the number of business openings have decreased over the past five years–a trend that is reflected among restaurant openings, as well. The Financial District/South Beach experienced the most business openings, but the annual number of restaurant openings in the neighborhood are still not back to pre-pandemic levels. "
   ]
  },
  {
   "cell_type": "markdown",
   "id": "328afbf1-bbe6-44f5-bbf5-50416a09022f",
   "metadata": {},
   "source": [
    "### The Premise"
   ]
  },
  {
   "cell_type": "markdown",
   "id": "9cff4365-d5fe-4f54-842d-d6e77f62cb56",
   "metadata": {},
   "source": [
    "Cities are the epicenter of COVID-19’s impact in the United States, and San Francisco is no exception. In the three years since San Francisco issued its first [Stay Home](\"https://sf.gov/news/sf-expands-stay-home-order-response-coronavirus-outbreak\") order, life in SF has largely returned to its pre-pandemic ways, with one notable exception: [business activity in San Francisco has stalled](\"https://downtownrecovery.com/death_of_downtown_policy_brief.pdf\") at 30% of pre-pandemic levels. The New York Times [dubbed](\"https://www.nytimes.com/2023/02/09/podcasts/the-daily/san-francisco-downtown-pandemic.html\") San Francisco “the most empty downtown in America.” "
   ]
  },
  {
   "cell_type": "markdown",
   "id": "029b7069-91db-43a3-afb6-67bdee36f44b",
   "metadata": {
    "tags": []
   },
   "source": [
    "Our project used the SF business location data to answer four discrete quantifiable questions about the pandemic’s impact on SF businesses, zooming in on SF restaurants and neighborhoods from 2018 to 2022: \n",
    "1. Has the number of annual business openings increased?\n",
    "2. In which neighborhoods have occurred the most openings?\n",
    "3. How have restaurant openings changed throughout the course of the pandemic?\n",
    "4. How have restaurant openings changed in the three neighborhoods with the most restaurants?"
   ]
  },
  {
   "cell_type": "markdown",
   "id": "3f6af015-fd55-4d4d-b8e2-98f2c3cc5cef",
   "metadata": {},
   "source": [
    "### The Data"
   ]
  },
  {
   "cell_type": "markdown",
   "id": "0ff9ac92-c2bc-4c6c-b77b-a5ded149da34",
   "metadata": {},
   "source": [
    "We analyzed [Registered Business Locations - San Francisco](\"https://data.sfgov.org/Economy-and-Community/Registered-Business-Locations-San-Francisco/g8m3-pdis\") data, collected by the Treasurer & Tax Collector’s Office and hosted on DataSF. The dataset includes 27 data fields, as defined by the [data dictionary](\"https://data.sfgov.org/Economy-and-Community/Registered-Business-Locations-San-Francisco/g8m3-pdis#:~:text=Columns%20in%20this%20Dataset\"). \n",
    "\n",
    "The dataset has several limitations, as identified in our interviews with the Treasurer & Tax Collector’s Office. First and foremost, this data is self-reported for tax purposes and thus comes with the usual caveats related to accuracy and thoroughness. For example, the “Closing date” field could be blank because the business location is still open or simply because the business forgot to update their records with the Treasurer & Tax Collector’s Office when they shut down that location. Additionally, several fields in the data reflect the parent business, which can differ from that of the business location listed in the data. For example, the “NAICS” column includes codes that identify a business’ sector, but that categorization could reflect the parent company’s categorization worldwide, not necessarily specific to the SF business location’s activities. \n",
    "\n",
    "Mindful of these limitations, we narrowed our analysis to key fields in the dataset with high reliability: Location Start Date, LIC (license codes), and Neighborhood - Analysis Boundaries (neighborhood). \n"
   ]
  },
  {
   "cell_type": "markdown",
   "id": "25d2b589-098a-4e8b-a27b-43707a475aab",
   "metadata": {},
   "source": [
    "### Data Import"
   ]
  },
  {
   "cell_type": "markdown",
   "id": "1b93e6c0-16d0-45e5-97ee-db0f8c203bd5",
   "metadata": {},
   "source": [
    "The dataset “Registered Business Locations - San Francisco” is available on DataSF’s portal. "
   ]
  }
 ],
 "metadata": {
  "kernelspec": {
   "display_name": "Python 3 (ipykernel)",
   "language": "python",
   "name": "python3"
  },
  "language_info": {
   "codemirror_mode": {
    "name": "ipython",
    "version": 3
   },
   "file_extension": ".py",
   "mimetype": "text/x-python",
   "name": "python",
   "nbconvert_exporter": "python",
   "pygments_lexer": "ipython3",
   "version": "3.10.9"
  }
 },
 "nbformat": 4,
 "nbformat_minor": 5
}
