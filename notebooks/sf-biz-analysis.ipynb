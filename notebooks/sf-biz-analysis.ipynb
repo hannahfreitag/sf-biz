{
 "cells": [
  {
   "cell_type": "markdown",
   "id": "aa876ed8-8e09-416c-a039-2a258c451e41",
   "metadata": {
    "tags": []
   },
   "source": [
    "# San Francisco Businesses: Boom or Bust?"
   ]
  },
  {
   "cell_type": "markdown",
   "id": "3040dc64-8b17-45e7-9b4d-40d6ec566df2",
   "metadata": {},
   "source": [
    "By Hannah Bassett and Hannah Freitag "
   ]
  },
  {
   "cell_type": "markdown",
   "id": "a76ea3f6-76c7-48c2-9616-e65ad55f3605",
   "metadata": {},
   "source": [
    "### DATA ANALYSIS"
   ]
  },
  {
   "cell_type": "markdown",
   "id": "a3371da4-f9d5-4103-9561-61e481f34f26",
   "metadata": {
    "tags": []
   },
   "source": [
    "### The Project"
   ]
  },
  {
   "cell_type": "markdown",
   "id": "f343f816-7556-4b97-b9ae-89a85ceb58f3",
   "metadata": {},
   "source": [
    "The purpose of this project is to identify changes that occurred among San Francisco’s businesses during the COVID-19 pandemic. Our analysis of DataSF’s [Registered Business Locations](\"https://data.sfgov.org/Economy-and-Community/Registered-Business-Locations-San-Francisco/g8m3-pdis) dataset found that overall the number of business openings have decreased over the past five years–a trend that is reflected among restaurant openings, as well. The Financial District/South Beach experienced the most business openings, but the annual number of restaurant openings in the neighborhood are still not back to pre-pandemic levels. "
   ]
  },
  {
   "cell_type": "markdown",
   "id": "22582c2f-2a32-4cf6-87a0-3a4c4c521cac",
   "metadata": {},
   "source": [
    "___________________________________________________________________________________________________________________"
   ]
  },
  {
   "cell_type": "markdown",
   "id": "cd6668a2-4625-4195-9742-4acd8528df12",
   "metadata": {
    "tags": []
   },
   "source": [
    "### Analysis Questions"
   ]
  },
  {
   "cell_type": "markdown",
   "id": "68ed5249-94fd-46e0-8c4b-7fa3302a08c7",
   "metadata": {},
   "source": [
    "Our project used the SF business location data to answer four discrete quantifiable questions about the pandemic’s impact on SF businesses, zooming in on SF restaurants and neighborhoods from 2018-2022: \n",
    "1. Has the number of annual business openings increased?\n",
    "2. In which neighborhoods have occurred the most openings?\n",
    "3. How have restaurant openings changed throughout the course of the pandemic?\n",
    "4. How have restaurant openings changed in the three neighborhoods with the most restaurants?"
   ]
  },
  {
   "cell_type": "markdown",
   "id": "7a85442a-0091-4895-88fd-ac5cd1d2ffaa",
   "metadata": {},
   "source": [
    "___________________________________________________________________________________________________________________"
   ]
  },
  {
   "cell_type": "code",
   "execution_count": 10,
   "id": "a88030f1-6d1e-4cf3-b0ed-db394bec9c6b",
   "metadata": {
    "tags": []
   },
   "outputs": [],
   "source": [
    "import pandas as pd\n",
    "import altair as alt"
   ]
  },
  {
   "cell_type": "code",
   "execution_count": 11,
   "id": "2790fd43-c81b-45d9-b25b-5e08cd3f690c",
   "metadata": {
    "tags": []
   },
   "outputs": [],
   "source": [
    "# Import dataframes that were created in \"data vetting\" notebook\n",
    "sf_biz_18_22 = pd.read_csv(\"sf_biz_18_22.csv\", low_memory=False)\n",
    "sf_biz_industry = pd.read_csv(\"sf_biz_industry.csv\", low_memory=False)"
   ]
  },
  {
   "cell_type": "markdown",
   "id": "c3c1a3c5-c70b-4f46-98a4-be09d0bdf194",
   "metadata": {},
   "source": [
    "#### Q1: Has the number of annual business openings increased?"
   ]
  },
  {
   "cell_type": "code",
   "execution_count": 3,
   "id": "b1eee021-7703-485c-a93c-9392f1e8971c",
   "metadata": {
    "tags": []
   },
   "outputs": [
    {
     "data": {
      "text/html": [
       "<div>\n",
       "<style scoped>\n",
       "    .dataframe tbody tr th:only-of-type {\n",
       "        vertical-align: middle;\n",
       "    }\n",
       "\n",
       "    .dataframe tbody tr th {\n",
       "        vertical-align: top;\n",
       "    }\n",
       "\n",
       "    .dataframe thead th {\n",
       "        text-align: right;\n",
       "    }\n",
       "</style>\n",
       "<table border=\"1\" class=\"dataframe\">\n",
       "  <thead>\n",
       "    <tr style=\"text-align: right;\">\n",
       "      <th></th>\n",
       "      <th>index</th>\n",
       "      <th>Start_Year</th>\n",
       "    </tr>\n",
       "  </thead>\n",
       "  <tbody>\n",
       "    <tr>\n",
       "      <th>0</th>\n",
       "      <td>2018</td>\n",
       "      <td>19424</td>\n",
       "    </tr>\n",
       "    <tr>\n",
       "      <th>1</th>\n",
       "      <td>2019</td>\n",
       "      <td>18918</td>\n",
       "    </tr>\n",
       "    <tr>\n",
       "      <th>2</th>\n",
       "      <td>2021</td>\n",
       "      <td>14930</td>\n",
       "    </tr>\n",
       "    <tr>\n",
       "      <th>3</th>\n",
       "      <td>2020</td>\n",
       "      <td>14051</td>\n",
       "    </tr>\n",
       "    <tr>\n",
       "      <th>4</th>\n",
       "      <td>2022</td>\n",
       "      <td>13448</td>\n",
       "    </tr>\n",
       "  </tbody>\n",
       "</table>\n",
       "</div>"
      ],
      "text/plain": [
       "   index  Start_Year\n",
       "0   2018       19424\n",
       "1   2019       18918\n",
       "2   2021       14930\n",
       "3   2020       14051\n",
       "4   2022       13448"
      ]
     },
     "execution_count": 3,
     "metadata": {},
     "output_type": "execute_result"
    }
   ],
   "source": [
    "# Create pivot table to show the number of openings by year and store in new dataframe (\"sf\")\n",
    "sf = sf_biz_18_22[\"Start_Year\"].value_counts().reset_index()\n",
    "sf"
   ]
  },
  {
   "cell_type": "code",
   "execution_count": 18,
   "id": "450a3025-d614-4d44-aed2-44b9a464284d",
   "metadata": {
    "tags": []
   },
   "outputs": [
    {
     "data": {
      "text/html": [
       "<div>\n",
       "<style scoped>\n",
       "    .dataframe tbody tr th:only-of-type {\n",
       "        vertical-align: middle;\n",
       "    }\n",
       "\n",
       "    .dataframe tbody tr th {\n",
       "        vertical-align: top;\n",
       "    }\n",
       "\n",
       "    .dataframe thead th {\n",
       "        text-align: right;\n",
       "    }\n",
       "</style>\n",
       "<table border=\"1\" class=\"dataframe\">\n",
       "  <thead>\n",
       "    <tr style=\"text-align: right;\">\n",
       "      <th></th>\n",
       "      <th>index</th>\n",
       "      <th>Location Start Date</th>\n",
       "    </tr>\n",
       "  </thead>\n",
       "  <tbody>\n",
       "    <tr>\n",
       "      <th>0</th>\n",
       "      <td>2018-01</td>\n",
       "      <td>3299</td>\n",
       "    </tr>\n",
       "    <tr>\n",
       "      <th>1</th>\n",
       "      <td>2019-01</td>\n",
       "      <td>3174</td>\n",
       "    </tr>\n",
       "    <tr>\n",
       "      <th>2</th>\n",
       "      <td>2020-01</td>\n",
       "      <td>2658</td>\n",
       "    </tr>\n",
       "    <tr>\n",
       "      <th>3</th>\n",
       "      <td>2021-01</td>\n",
       "      <td>2103</td>\n",
       "    </tr>\n",
       "    <tr>\n",
       "      <th>4</th>\n",
       "      <td>2022-01</td>\n",
       "      <td>2015</td>\n",
       "    </tr>\n",
       "  </tbody>\n",
       "</table>\n",
       "</div>"
      ],
      "text/plain": [
       "     index  Location Start Date\n",
       "0  2018-01                 3299\n",
       "1  2019-01                 3174\n",
       "2  2020-01                 2658\n",
       "3  2021-01                 2103\n",
       "4  2022-01                 2015"
      ]
     },
     "execution_count": 18,
     "metadata": {},
     "output_type": "execute_result"
    }
   ],
   "source": [
    "sf_month_year = pd.to_datetime(sf_biz_18_22['Location Start Date']).dt.strftime('%Y-%m').value_counts().reset_index().head()\n",
    "sf_month_year"
   ]
  },
  {
   "cell_type": "code",
   "execution_count": 19,
   "id": "abeae2fd-675a-496a-b362-5921d164f7f4",
   "metadata": {
    "tags": []
   },
   "outputs": [],
   "source": [
    "# Rename column headers of newly created dataframe\n",
    "sf_month_year = sf_month_year.rename(columns={\"index\": \"Start_Month_Year\", \"Location Start Date\": \"Count_Openings\"})"
   ]
  },
  {
   "cell_type": "code",
   "execution_count": 21,
   "id": "504d508b-eed2-4af2-93c6-797004d68f89",
   "metadata": {
    "tags": []
   },
   "outputs": [],
   "source": [
    "# Rename column headers of newly created dataframe\n",
    "sf = sf.rename(columns={\"index\": \"Start_Year\", \"Start_Year\": \"Count_Openings\"})"
   ]
  },
  {
   "cell_type": "code",
   "execution_count": 22,
   "id": "1aa3ae98-9c6e-4434-a84c-2081ee8f3a57",
   "metadata": {
    "tags": []
   },
   "outputs": [
    {
     "name": "stdout",
     "output_type": "stream",
     "text": [
      "<class 'pandas.core.frame.DataFrame'>\n",
      "RangeIndex: 5 entries, 0 to 4\n",
      "Data columns (total 2 columns):\n",
      " #   Column          Non-Null Count  Dtype\n",
      "---  ------          --------------  -----\n",
      " 0   Start_Year      5 non-null      int64\n",
      " 1   Count_Openings  5 non-null      int64\n",
      "dtypes: int64(2)\n",
      "memory usage: 208.0 bytes\n"
     ]
    }
   ],
   "source": [
    "# Check if data storage was successful\n",
    "sf.info()"
   ]
  },
  {
   "cell_type": "code",
   "execution_count": 26,
   "id": "38c8e213-d1be-4420-8c00-c24aec1fb8d9",
   "metadata": {
    "tags": []
   },
   "outputs": [],
   "source": [
    "sf[\"Start_Year\"] = sf[\"Start_Year\"].astype(str) "
   ]
  },
  {
   "cell_type": "code",
   "execution_count": 22,
   "id": "a8ca59ba-15ae-47a6-a49f-6e3a43944e5f",
   "metadata": {
    "tags": []
   },
   "outputs": [
    {
     "data": {
      "text/html": [
       "\n",
       "<div id=\"altair-viz-9c305a359e7840e4aed06ed6175c74d4\"></div>\n",
       "<script type=\"text/javascript\">\n",
       "  var VEGA_DEBUG = (typeof VEGA_DEBUG == \"undefined\") ? {} : VEGA_DEBUG;\n",
       "  (function(spec, embedOpt){\n",
       "    let outputDiv = document.currentScript.previousElementSibling;\n",
       "    if (outputDiv.id !== \"altair-viz-9c305a359e7840e4aed06ed6175c74d4\") {\n",
       "      outputDiv = document.getElementById(\"altair-viz-9c305a359e7840e4aed06ed6175c74d4\");\n",
       "    }\n",
       "    const paths = {\n",
       "      \"vega\": \"https://cdn.jsdelivr.net/npm//vega@5?noext\",\n",
       "      \"vega-lib\": \"https://cdn.jsdelivr.net/npm//vega-lib?noext\",\n",
       "      \"vega-lite\": \"https://cdn.jsdelivr.net/npm//vega-lite@4.17.0?noext\",\n",
       "      \"vega-embed\": \"https://cdn.jsdelivr.net/npm//vega-embed@6?noext\",\n",
       "    };\n",
       "\n",
       "    function maybeLoadScript(lib, version) {\n",
       "      var key = `${lib.replace(\"-\", \"\")}_version`;\n",
       "      return (VEGA_DEBUG[key] == version) ?\n",
       "        Promise.resolve(paths[lib]) :\n",
       "        new Promise(function(resolve, reject) {\n",
       "          var s = document.createElement('script');\n",
       "          document.getElementsByTagName(\"head\")[0].appendChild(s);\n",
       "          s.async = true;\n",
       "          s.onload = () => {\n",
       "            VEGA_DEBUG[key] = version;\n",
       "            return resolve(paths[lib]);\n",
       "          };\n",
       "          s.onerror = () => reject(`Error loading script: ${paths[lib]}`);\n",
       "          s.src = paths[lib];\n",
       "        });\n",
       "    }\n",
       "\n",
       "    function showError(err) {\n",
       "      outputDiv.innerHTML = `<div class=\"error\" style=\"color:red;\">${err}</div>`;\n",
       "      throw err;\n",
       "    }\n",
       "\n",
       "    function displayChart(vegaEmbed) {\n",
       "      vegaEmbed(outputDiv, spec, embedOpt)\n",
       "        .catch(err => showError(`Javascript Error: ${err.message}<br>This usually means there's a typo in your chart specification. See the javascript console for the full traceback.`));\n",
       "    }\n",
       "\n",
       "    if(typeof define === \"function\" && define.amd) {\n",
       "      requirejs.config({paths});\n",
       "      require([\"vega-embed\"], displayChart, err => showError(`Error loading script: ${err.message}`));\n",
       "    } else {\n",
       "      maybeLoadScript(\"vega\", \"5\")\n",
       "        .then(() => maybeLoadScript(\"vega-lite\", \"4.17.0\"))\n",
       "        .then(() => maybeLoadScript(\"vega-embed\", \"6\"))\n",
       "        .catch(showError)\n",
       "        .then(() => displayChart(vegaEmbed));\n",
       "    }\n",
       "  })({\"config\": {\"view\": {\"continuousWidth\": 400, \"continuousHeight\": 300}, \"mark\": {\"color\": \"darkturquoise\", \"opacity\": 0.4}}, \"data\": {\"name\": \"data-caac44d52a04112c2524000723a636aa\"}, \"mark\": {\"type\": \"bar\", \"size\": 60}, \"encoding\": {\"tooltip\": [{\"field\": \"Count_Openings\", \"format\": \".0f\", \"type\": \"quantitative\"}], \"x\": {\"axis\": {\"format\": \"d\", \"labelAngle\": 0, \"title\": \"Year\"}, \"field\": \"Start_Year\", \"scale\": {\"padding\": 0.01}, \"type\": \"ordinal\"}, \"y\": {\"axis\": {\"title\": \"Number of Openings\"}, \"field\": \"Count_Openings\", \"scale\": {\"domain\": [0, 22000]}, \"sort\": \"-y\", \"type\": \"quantitative\"}}, \"title\": \"Business Openings in San Francisco (2018-2022)\", \"width\": 500, \"$schema\": \"https://vega.github.io/schema/vega-lite/v4.17.0.json\", \"datasets\": {\"data-caac44d52a04112c2524000723a636aa\": [{\"Start_Year\": 2018, \"Count_Openings\": 19424}, {\"Start_Year\": 2019, \"Count_Openings\": 18918}, {\"Start_Year\": 2021, \"Count_Openings\": 14930}, {\"Start_Year\": 2020, \"Count_Openings\": 14051}, {\"Start_Year\": 2022, \"Count_Openings\": 13448}]}}, {\"mode\": \"vega-lite\"});\n",
       "</script>"
      ],
      "text/plain": [
       "alt.Chart(...)"
      ]
     },
     "execution_count": 22,
     "metadata": {},
     "output_type": "execute_result"
    }
   ],
   "source": [
    "# YEAR ONLY: Visualize findings in a bar graph\n",
    "chart = alt.Chart(sf).mark_bar(size=60).encode(\n",
    "    x=alt.X('Start_Year:O', axis=alt.Axis(title='Year', format='d', labelAngle=0), scale=alt.Scale(padding=0.01)),\n",
    "    y=alt.Y('Count_Openings:Q', sort='-y', axis=alt.Axis(title='Number of Openings'), scale=alt.Scale(domain=[0, 22000])),\n",
    "    tooltip=[alt.Tooltip('Count_Openings:Q', format='.0f')]\n",
    ").properties(\n",
    "    title='Business Openings in San Francisco (2018-2022)',\n",
    "    width=500\n",
    ").configure_mark(\n",
    "    opacity=0.4,\n",
    "    color='darkturquoise'\n",
    "    )\n",
    "\n",
    "# display chart\n",
    "chart"
   ]
  },
  {
   "cell_type": "code",
   "execution_count": 23,
   "id": "a51b3b39-7c1d-44df-89ca-680936e215ee",
   "metadata": {
    "tags": []
   },
   "outputs": [
    {
     "data": {
      "text/html": [
       "\n",
       "<div id=\"altair-viz-19a0d3f84b394c509c697f89225206fa\"></div>\n",
       "<script type=\"text/javascript\">\n",
       "  var VEGA_DEBUG = (typeof VEGA_DEBUG == \"undefined\") ? {} : VEGA_DEBUG;\n",
       "  (function(spec, embedOpt){\n",
       "    let outputDiv = document.currentScript.previousElementSibling;\n",
       "    if (outputDiv.id !== \"altair-viz-19a0d3f84b394c509c697f89225206fa\") {\n",
       "      outputDiv = document.getElementById(\"altair-viz-19a0d3f84b394c509c697f89225206fa\");\n",
       "    }\n",
       "    const paths = {\n",
       "      \"vega\": \"https://cdn.jsdelivr.net/npm//vega@5?noext\",\n",
       "      \"vega-lib\": \"https://cdn.jsdelivr.net/npm//vega-lib?noext\",\n",
       "      \"vega-lite\": \"https://cdn.jsdelivr.net/npm//vega-lite@4.17.0?noext\",\n",
       "      \"vega-embed\": \"https://cdn.jsdelivr.net/npm//vega-embed@6?noext\",\n",
       "    };\n",
       "\n",
       "    function maybeLoadScript(lib, version) {\n",
       "      var key = `${lib.replace(\"-\", \"\")}_version`;\n",
       "      return (VEGA_DEBUG[key] == version) ?\n",
       "        Promise.resolve(paths[lib]) :\n",
       "        new Promise(function(resolve, reject) {\n",
       "          var s = document.createElement('script');\n",
       "          document.getElementsByTagName(\"head\")[0].appendChild(s);\n",
       "          s.async = true;\n",
       "          s.onload = () => {\n",
       "            VEGA_DEBUG[key] = version;\n",
       "            return resolve(paths[lib]);\n",
       "          };\n",
       "          s.onerror = () => reject(`Error loading script: ${paths[lib]}`);\n",
       "          s.src = paths[lib];\n",
       "        });\n",
       "    }\n",
       "\n",
       "    function showError(err) {\n",
       "      outputDiv.innerHTML = `<div class=\"error\" style=\"color:red;\">${err}</div>`;\n",
       "      throw err;\n",
       "    }\n",
       "\n",
       "    function displayChart(vegaEmbed) {\n",
       "      vegaEmbed(outputDiv, spec, embedOpt)\n",
       "        .catch(err => showError(`Javascript Error: ${err.message}<br>This usually means there's a typo in your chart specification. See the javascript console for the full traceback.`));\n",
       "    }\n",
       "\n",
       "    if(typeof define === \"function\" && define.amd) {\n",
       "      requirejs.config({paths});\n",
       "      require([\"vega-embed\"], displayChart, err => showError(`Error loading script: ${err.message}`));\n",
       "    } else {\n",
       "      maybeLoadScript(\"vega\", \"5\")\n",
       "        .then(() => maybeLoadScript(\"vega-lite\", \"4.17.0\"))\n",
       "        .then(() => maybeLoadScript(\"vega-embed\", \"6\"))\n",
       "        .catch(showError)\n",
       "        .then(() => displayChart(vegaEmbed));\n",
       "    }\n",
       "  })({\"config\": {\"view\": {\"continuousWidth\": 400, \"continuousHeight\": 300}}, \"data\": {\"name\": \"data-caac44d52a04112c2524000723a636aa\"}, \"mark\": \"line\", \"encoding\": {\"x\": {\"axis\": {\"format\": \"d\", \"labelAngle\": 0, \"title\": \"Year\"}, \"field\": \"Start_Year\", \"scale\": {\"padding\": 0.01}, \"type\": \"ordinal\"}, \"y\": {\"axis\": {\"title\": \"Number of Openings\"}, \"field\": \"Count_Openings\", \"scale\": {\"domain\": [0, 22000]}, \"sort\": \"-x\", \"type\": \"quantitative\"}}, \"title\": \"Business Openings in San Francisco (2018-2022)\", \"width\": 500, \"$schema\": \"https://vega.github.io/schema/vega-lite/v4.17.0.json\", \"datasets\": {\"data-caac44d52a04112c2524000723a636aa\": [{\"Start_Year\": 2018, \"Count_Openings\": 19424}, {\"Start_Year\": 2019, \"Count_Openings\": 18918}, {\"Start_Year\": 2021, \"Count_Openings\": 14930}, {\"Start_Year\": 2020, \"Count_Openings\": 14051}, {\"Start_Year\": 2022, \"Count_Openings\": 13448}]}}, {\"mode\": \"vega-lite\"});\n",
       "</script>"
      ],
      "text/plain": [
       "alt.Chart(...)"
      ]
     },
     "execution_count": 23,
     "metadata": {},
     "output_type": "execute_result"
    }
   ],
   "source": [
    "# MONTH-YEAR: Visualize findings in a line chart\n",
    "chart = alt.Chart(sf).mark_line().encode(\n",
    "    x=alt.X('Start_Year:O', axis=alt.Axis(title='Year', format='d', labelAngle=0), scale=alt.Scale(padding=0.01)),\n",
    "    y=alt.Y(\"Count_Openings\", sort=\"-x\", axis=alt.Axis(title='Number of Openings'), scale=alt.Scale(domain=[0, 22000])),\n",
    ").properties(\n",
    "    title=\"Business Openings in San Francisco (2018-2022)\",\n",
    "    width=500\n",
    ")\n",
    "\n",
    "# display the chart\n",
    "chart"
   ]
  },
  {
   "cell_type": "markdown",
   "id": "faa43b18-60b7-4ad8-99b8-4a653a3947ce",
   "metadata": {},
   "source": [
    "A1: Overall, the number of annual business openings has decreased in the past five years."
   ]
  },
  {
   "cell_type": "markdown",
   "id": "03b40aba-1e3b-4093-a0e9-91f04b552f87",
   "metadata": {},
   "source": [
    "___________________________________________________________________________________________________________________"
   ]
  },
  {
   "cell_type": "markdown",
   "id": "f5b21a85-54d8-4033-8d77-223fcfdee1c0",
   "metadata": {},
   "source": [
    "#### Q2: In which neighborhoods have occurred the most openings in the last five years?"
   ]
  },
  {
   "cell_type": "code",
   "execution_count": 36,
   "id": "a48e20c0-fcec-472d-b02d-93379425efc0",
   "metadata": {
    "tags": []
   },
   "outputs": [
    {
     "data": {
      "text/plain": [
       "42"
      ]
     },
     "execution_count": 36,
     "metadata": {},
     "output_type": "execute_result"
    }
   ],
   "source": [
    "# Check if neighborhoods are complete\n",
    "len(sf_biz_18_22[\"Hoods\"].unique())"
   ]
  },
  {
   "cell_type": "code",
   "execution_count": 41,
   "id": "e2c04301-4d0d-4bce-957b-c58c69e66fde",
   "metadata": {
    "tags": []
   },
   "outputs": [
    {
     "data": {
      "text/plain": [
       "Financial District/South Beach    9732\n",
       "South of Market                   5220\n",
       "Mission                           5099\n",
       "Bayview Hunters Point             3484\n",
       "Sunset/Parkside                   3087\n",
       "Marina                            2100\n",
       "Castro/Upper Market               2075\n",
       "Tenderloin                        1944\n",
       "Outer Richmond                    1929\n",
       "Chinatown                         1864\n",
       "Name: Hoods, dtype: int64"
      ]
     },
     "execution_count": 41,
     "metadata": {},
     "output_type": "execute_result"
    }
   ],
   "source": [
    "# Create pivot table showing number of business openings by neighborhood; sort in descending to have neighborhoods with most openings at the top\n",
    "sf_biz_18_22[\"Hoods\"].value_counts().sort_values(ascending = False).head(10)"
   ]
  },
  {
   "cell_type": "code",
   "execution_count": 42,
   "id": "78253353-ff84-4252-87f5-dcdd493d316b",
   "metadata": {
    "tags": []
   },
   "outputs": [],
   "source": [
    "# Create filtered dataframe of top five neighborhoods by openings\n",
    "sf_biz_hood_bar = sf_biz_18_22[\"Hoods\"].value_counts().sort_values(ascending = False).reset_index().head()"
   ]
  },
  {
   "cell_type": "code",
   "execution_count": 94,
   "id": "bab010b7-223b-4f26-b79d-7971c30b41e1",
   "metadata": {
    "tags": []
   },
   "outputs": [],
   "source": [
    "# Rename column headers of newly created dataframe\n",
    "sf_biz_hood_bar = sf_biz_hood_bar.rename(columns={\"index\": \"Hood\", \"Hoods\": \"Count_Openings\"})"
   ]
  },
  {
   "cell_type": "code",
   "execution_count": 91,
   "id": "14576251-2f95-4e94-8d83-4b2b886fa809",
   "metadata": {
    "tags": []
   },
   "outputs": [
    {
     "data": {
      "text/html": [
       "<div>\n",
       "<style scoped>\n",
       "    .dataframe tbody tr th:only-of-type {\n",
       "        vertical-align: middle;\n",
       "    }\n",
       "\n",
       "    .dataframe tbody tr th {\n",
       "        vertical-align: top;\n",
       "    }\n",
       "\n",
       "    .dataframe thead th {\n",
       "        text-align: right;\n",
       "    }\n",
       "</style>\n",
       "<table border=\"1\" class=\"dataframe\">\n",
       "  <thead>\n",
       "    <tr style=\"text-align: right;\">\n",
       "      <th></th>\n",
       "      <th>Hood</th>\n",
       "      <th>Count_Openings</th>\n",
       "    </tr>\n",
       "  </thead>\n",
       "  <tbody>\n",
       "    <tr>\n",
       "      <th>0</th>\n",
       "      <td>Financial District/South Beach</td>\n",
       "      <td>9732</td>\n",
       "    </tr>\n",
       "    <tr>\n",
       "      <th>1</th>\n",
       "      <td>South of Market</td>\n",
       "      <td>5220</td>\n",
       "    </tr>\n",
       "    <tr>\n",
       "      <th>2</th>\n",
       "      <td>Mission</td>\n",
       "      <td>5099</td>\n",
       "    </tr>\n",
       "    <tr>\n",
       "      <th>3</th>\n",
       "      <td>Bayview Hunters Point</td>\n",
       "      <td>3484</td>\n",
       "    </tr>\n",
       "    <tr>\n",
       "      <th>4</th>\n",
       "      <td>Sunset/Parkside</td>\n",
       "      <td>3087</td>\n",
       "    </tr>\n",
       "  </tbody>\n",
       "</table>\n",
       "</div>"
      ],
      "text/plain": [
       "                             Hood  Count_Openings\n",
       "0  Financial District/South Beach            9732\n",
       "1                 South of Market            5220\n",
       "2                         Mission            5099\n",
       "3           Bayview Hunters Point            3484\n",
       "4                 Sunset/Parkside            3087"
      ]
     },
     "execution_count": 91,
     "metadata": {},
     "output_type": "execute_result"
    }
   ],
   "source": [
    "# Review if renaming was successful\n",
    "sf_biz_hood_bar.head()"
   ]
  },
  {
   "cell_type": "code",
   "execution_count": 140,
   "id": "f403e998-93d1-4cd4-b867-5c1b41cf8ce3",
   "metadata": {
    "tags": []
   },
   "outputs": [
    {
     "data": {
      "text/html": [
       "\n",
       "<div id=\"altair-viz-da1d01abd8b048518cb355ac49c3dfcc\"></div>\n",
       "<script type=\"text/javascript\">\n",
       "  var VEGA_DEBUG = (typeof VEGA_DEBUG == \"undefined\") ? {} : VEGA_DEBUG;\n",
       "  (function(spec, embedOpt){\n",
       "    let outputDiv = document.currentScript.previousElementSibling;\n",
       "    if (outputDiv.id !== \"altair-viz-da1d01abd8b048518cb355ac49c3dfcc\") {\n",
       "      outputDiv = document.getElementById(\"altair-viz-da1d01abd8b048518cb355ac49c3dfcc\");\n",
       "    }\n",
       "    const paths = {\n",
       "      \"vega\": \"https://cdn.jsdelivr.net/npm//vega@5?noext\",\n",
       "      \"vega-lib\": \"https://cdn.jsdelivr.net/npm//vega-lib?noext\",\n",
       "      \"vega-lite\": \"https://cdn.jsdelivr.net/npm//vega-lite@4.17.0?noext\",\n",
       "      \"vega-embed\": \"https://cdn.jsdelivr.net/npm//vega-embed@6?noext\",\n",
       "    };\n",
       "\n",
       "    function maybeLoadScript(lib, version) {\n",
       "      var key = `${lib.replace(\"-\", \"\")}_version`;\n",
       "      return (VEGA_DEBUG[key] == version) ?\n",
       "        Promise.resolve(paths[lib]) :\n",
       "        new Promise(function(resolve, reject) {\n",
       "          var s = document.createElement('script');\n",
       "          document.getElementsByTagName(\"head\")[0].appendChild(s);\n",
       "          s.async = true;\n",
       "          s.onload = () => {\n",
       "            VEGA_DEBUG[key] = version;\n",
       "            return resolve(paths[lib]);\n",
       "          };\n",
       "          s.onerror = () => reject(`Error loading script: ${paths[lib]}`);\n",
       "          s.src = paths[lib];\n",
       "        });\n",
       "    }\n",
       "\n",
       "    function showError(err) {\n",
       "      outputDiv.innerHTML = `<div class=\"error\" style=\"color:red;\">${err}</div>`;\n",
       "      throw err;\n",
       "    }\n",
       "\n",
       "    function displayChart(vegaEmbed) {\n",
       "      vegaEmbed(outputDiv, spec, embedOpt)\n",
       "        .catch(err => showError(`Javascript Error: ${err.message}<br>This usually means there's a typo in your chart specification. See the javascript console for the full traceback.`));\n",
       "    }\n",
       "\n",
       "    if(typeof define === \"function\" && define.amd) {\n",
       "      requirejs.config({paths});\n",
       "      require([\"vega-embed\"], displayChart, err => showError(`Error loading script: ${err.message}`));\n",
       "    } else {\n",
       "      maybeLoadScript(\"vega\", \"5\")\n",
       "        .then(() => maybeLoadScript(\"vega-lite\", \"4.17.0\"))\n",
       "        .then(() => maybeLoadScript(\"vega-embed\", \"6\"))\n",
       "        .catch(showError)\n",
       "        .then(() => displayChart(vegaEmbed));\n",
       "    }\n",
       "  })({\"config\": {\"view\": {\"continuousWidth\": 400, \"continuousHeight\": 300}, \"mark\": {\"color\": \"darkturquoise\", \"opacity\": 0.4}}, \"data\": {\"name\": \"data-2a5875761f18ef40e8820f0fe59c94d1\"}, \"mark\": {\"type\": \"bar\", \"size\": 25}, \"encoding\": {\"tooltip\": [{\"field\": \"Count_Openings\", \"format\": \".0f\", \"type\": \"quantitative\"}], \"x\": {\"axis\": {\"format\": \"d\", \"labelAngle\": 0, \"title\": \"Number of Openings\"}, \"field\": \"Count_Openings\", \"scale\": {\"padding\": 0.01}, \"type\": \"quantitative\"}, \"y\": {\"axis\": {\"title\": \"\"}, \"field\": \"Hood\", \"sort\": \"-x\", \"type\": \"nominal\"}}, \"height\": 200, \"title\": \"Five Neighborhoods with Most Business Openings (2018-2022)\", \"width\": 500, \"$schema\": \"https://vega.github.io/schema/vega-lite/v4.17.0.json\", \"datasets\": {\"data-2a5875761f18ef40e8820f0fe59c94d1\": [{\"Hood\": \"Financial District/South Beach\", \"Count_Openings\": 9732}, {\"Hood\": \"South of Market\", \"Count_Openings\": 5220}, {\"Hood\": \"Mission\", \"Count_Openings\": 5099}, {\"Hood\": \"Bayview Hunters Point\", \"Count_Openings\": 3484}, {\"Hood\": \"Sunset/Parkside\", \"Count_Openings\": 3087}]}}, {\"mode\": \"vega-lite\"});\n",
       "</script>"
      ],
      "text/plain": [
       "alt.Chart(...)"
      ]
     },
     "execution_count": 140,
     "metadata": {},
     "output_type": "execute_result"
    }
   ],
   "source": [
    "# Visualize findings in a bar graph\n",
    "chart = alt.Chart(sf_biz_hood_bar).mark_bar(size=25).encode(\n",
    "    y=alt.Y('Hood', sort='-x', axis=alt.Axis(title='')),\n",
    "    x=alt.X('Count_Openings', axis=alt.Axis(title='Number of Openings', format='d', labelAngle=0), scale=alt.Scale(padding=0.01)),\n",
    "    tooltip=[alt.Tooltip('Count_Openings', format='.0f')]\n",
    ").properties(\n",
    "    title='Five Neighborhoods with Most Business Openings (2018-2022)',\n",
    "    width=500,\n",
    "    height=200\n",
    ").configure_mark(\n",
    "    opacity=0.4,\n",
    "    color='darkturquoise'\n",
    "    )\n",
    "\n",
    "# display the chart\n",
    "chart"
   ]
  },
  {
   "cell_type": "code",
   "execution_count": 158,
   "id": "745f7640-fe32-4c00-b653-d01ddb78836a",
   "metadata": {
    "tags": []
   },
   "outputs": [],
   "source": [
    "sf_biz_hood = sf_biz_18_22.groupby([\"Hoods\", \"Start_Year\"]).size().reset_index()"
   ]
  },
  {
   "cell_type": "code",
   "execution_count": 159,
   "id": "ee13de8f-aab3-43da-b63f-aebc3e99c7cb",
   "metadata": {
    "tags": []
   },
   "outputs": [],
   "source": [
    "sf_biz_hood.rename(columns={0: \"Count_Openings\"}, inplace=True)"
   ]
  },
  {
   "cell_type": "code",
   "execution_count": 160,
   "id": "3da252dd-84c4-4e7d-856d-d9f5023408f7",
   "metadata": {
    "tags": []
   },
   "outputs": [
    {
     "data": {
      "text/html": [
       "<div>\n",
       "<style scoped>\n",
       "    .dataframe tbody tr th:only-of-type {\n",
       "        vertical-align: middle;\n",
       "    }\n",
       "\n",
       "    .dataframe tbody tr th {\n",
       "        vertical-align: top;\n",
       "    }\n",
       "\n",
       "    .dataframe thead th {\n",
       "        text-align: right;\n",
       "    }\n",
       "</style>\n",
       "<table border=\"1\" class=\"dataframe\">\n",
       "  <thead>\n",
       "    <tr style=\"text-align: right;\">\n",
       "      <th></th>\n",
       "      <th>Hoods</th>\n",
       "      <th>Start_Year</th>\n",
       "      <th>Count_Openings</th>\n",
       "    </tr>\n",
       "  </thead>\n",
       "  <tbody>\n",
       "    <tr>\n",
       "      <th>0</th>\n",
       "      <td>Bayview Hunters Point</td>\n",
       "      <td>2018</td>\n",
       "      <td>760</td>\n",
       "    </tr>\n",
       "    <tr>\n",
       "      <th>1</th>\n",
       "      <td>Bayview Hunters Point</td>\n",
       "      <td>2019</td>\n",
       "      <td>722</td>\n",
       "    </tr>\n",
       "    <tr>\n",
       "      <th>2</th>\n",
       "      <td>Bayview Hunters Point</td>\n",
       "      <td>2020</td>\n",
       "      <td>731</td>\n",
       "    </tr>\n",
       "    <tr>\n",
       "      <th>3</th>\n",
       "      <td>Bayview Hunters Point</td>\n",
       "      <td>2021</td>\n",
       "      <td>670</td>\n",
       "    </tr>\n",
       "    <tr>\n",
       "      <th>4</th>\n",
       "      <td>Bayview Hunters Point</td>\n",
       "      <td>2022</td>\n",
       "      <td>601</td>\n",
       "    </tr>\n",
       "  </tbody>\n",
       "</table>\n",
       "</div>"
      ],
      "text/plain": [
       "                   Hoods  Start_Year  Count_Openings\n",
       "0  Bayview Hunters Point        2018             760\n",
       "1  Bayview Hunters Point        2019             722\n",
       "2  Bayview Hunters Point        2020             731\n",
       "3  Bayview Hunters Point        2021             670\n",
       "4  Bayview Hunters Point        2022             601"
      ]
     },
     "execution_count": 160,
     "metadata": {},
     "output_type": "execute_result"
    }
   ],
   "source": [
    "sf_biz_hood.head()"
   ]
  },
  {
   "cell_type": "code",
   "execution_count": 161,
   "id": "689c7b90-713d-41e7-bec7-12108a2735c5",
   "metadata": {
    "tags": []
   },
   "outputs": [],
   "source": [
    "condition = (sf_biz_hood[\"Hoods\"] == \"Bayview Hunters Point\") | (sf_biz_hood[\"Hoods\"] == \"Mission\") | (sf_biz_hood[\"Hoods\"] == \"Sunset/Parkside\") | (sf_biz_hood[\"Hoods\"] == \"South of Market\") | (sf_biz_hood[\"Hoods\"] == \"Financial District/South Beach\")"
   ]
  },
  {
   "cell_type": "code",
   "execution_count": 162,
   "id": "329485f8-09c5-47db-92c9-4295e9ae6dcf",
   "metadata": {
    "tags": []
   },
   "outputs": [],
   "source": [
    "sf_biz_hood_line = sf_biz_hood[condition]"
   ]
  },
  {
   "cell_type": "code",
   "execution_count": 163,
   "id": "e312c5b3-b171-4c79-8a96-992ec5a07ea3",
   "metadata": {
    "tags": []
   },
   "outputs": [
    {
     "data": {
      "text/html": [
       "<div>\n",
       "<style scoped>\n",
       "    .dataframe tbody tr th:only-of-type {\n",
       "        vertical-align: middle;\n",
       "    }\n",
       "\n",
       "    .dataframe tbody tr th {\n",
       "        vertical-align: top;\n",
       "    }\n",
       "\n",
       "    .dataframe thead th {\n",
       "        text-align: right;\n",
       "    }\n",
       "</style>\n",
       "<table border=\"1\" class=\"dataframe\">\n",
       "  <thead>\n",
       "    <tr style=\"text-align: right;\">\n",
       "      <th></th>\n",
       "      <th>Hoods</th>\n",
       "      <th>Start_Year</th>\n",
       "      <th>Count_Openings</th>\n",
       "    </tr>\n",
       "  </thead>\n",
       "  <tbody>\n",
       "    <tr>\n",
       "      <th>0</th>\n",
       "      <td>Bayview Hunters Point</td>\n",
       "      <td>2018</td>\n",
       "      <td>760</td>\n",
       "    </tr>\n",
       "    <tr>\n",
       "      <th>1</th>\n",
       "      <td>Bayview Hunters Point</td>\n",
       "      <td>2019</td>\n",
       "      <td>722</td>\n",
       "    </tr>\n",
       "    <tr>\n",
       "      <th>2</th>\n",
       "      <td>Bayview Hunters Point</td>\n",
       "      <td>2020</td>\n",
       "      <td>731</td>\n",
       "    </tr>\n",
       "    <tr>\n",
       "      <th>3</th>\n",
       "      <td>Bayview Hunters Point</td>\n",
       "      <td>2021</td>\n",
       "      <td>670</td>\n",
       "    </tr>\n",
       "    <tr>\n",
       "      <th>4</th>\n",
       "      <td>Bayview Hunters Point</td>\n",
       "      <td>2022</td>\n",
       "      <td>601</td>\n",
       "    </tr>\n",
       "  </tbody>\n",
       "</table>\n",
       "</div>"
      ],
      "text/plain": [
       "                   Hoods  Start_Year  Count_Openings\n",
       "0  Bayview Hunters Point        2018             760\n",
       "1  Bayview Hunters Point        2019             722\n",
       "2  Bayview Hunters Point        2020             731\n",
       "3  Bayview Hunters Point        2021             670\n",
       "4  Bayview Hunters Point        2022             601"
      ]
     },
     "execution_count": 163,
     "metadata": {},
     "output_type": "execute_result"
    }
   ],
   "source": [
    "sf_biz_hood_line.head()"
   ]
  },
  {
   "cell_type": "code",
   "execution_count": 164,
   "id": "3d52ce9f-e6eb-42b6-92f3-a143ad5e5a1f",
   "metadata": {
    "collapsed": true,
    "jupyter": {
     "outputs_hidden": true
    },
    "tags": []
   },
   "outputs": [
    {
     "name": "stderr",
     "output_type": "stream",
     "text": [
      "/tmp/ipykernel_18477/3006231422.py:2: SettingWithCopyWarning: \n",
      "A value is trying to be set on a copy of a slice from a DataFrame.\n",
      "Try using .loc[row_indexer,col_indexer] = value instead\n",
      "\n",
      "See the caveats in the documentation: https://pandas.pydata.org/pandas-docs/stable/user_guide/indexing.html#returning-a-view-versus-a-copy\n",
      "  sf_biz_hood_line['Start_Year'] = sf_biz_hood_line['Start_Year'].astype(str)\n",
      "/tmp/ipykernel_18477/3006231422.py:3: SettingWithCopyWarning: \n",
      "A value is trying to be set on a copy of a slice from a DataFrame.\n",
      "Try using .loc[row_indexer,col_indexer] = value instead\n",
      "\n",
      "See the caveats in the documentation: https://pandas.pydata.org/pandas-docs/stable/user_guide/indexing.html#returning-a-view-versus-a-copy\n",
      "  sf_biz_hood_line['Hoods'] = sf_biz_hood_line['Hoods'].astype(str)\n"
     ]
    }
   ],
   "source": [
    "# Make Year and Hoods variable a string to display properly\n",
    "sf_biz_hood_line['Start_Year'] = sf_biz_hood_line['Start_Year'].astype(str)\n",
    "sf_biz_hood_line['Hoods'] = sf_biz_hood_line['Hoods'].astype(str)"
   ]
  },
  {
   "cell_type": "code",
   "execution_count": 165,
   "id": "5034a353-5e7d-4bbd-8fe8-7fd8d15978d2",
   "metadata": {
    "tags": []
   },
   "outputs": [
    {
     "data": {
      "text/plain": [
       "array(['Bayview Hunters Point', 'Financial District/South Beach',\n",
       "       'Mission', 'South of Market', 'Sunset/Parkside'], dtype=object)"
      ]
     },
     "execution_count": 165,
     "metadata": {},
     "output_type": "execute_result"
    }
   ],
   "source": [
    "sf_biz_hood_line['Hoods'].unique()"
   ]
  },
  {
   "cell_type": "code",
   "execution_count": 167,
   "id": "a8b9f35c-ad58-41ce-948c-fc371ed94091",
   "metadata": {
    "tags": []
   },
   "outputs": [
    {
     "data": {
      "text/html": [
       "\n",
       "<div id=\"altair-viz-6a64bcafad004800aa8e260894cfb22e\"></div>\n",
       "<script type=\"text/javascript\">\n",
       "  var VEGA_DEBUG = (typeof VEGA_DEBUG == \"undefined\") ? {} : VEGA_DEBUG;\n",
       "  (function(spec, embedOpt){\n",
       "    let outputDiv = document.currentScript.previousElementSibling;\n",
       "    if (outputDiv.id !== \"altair-viz-6a64bcafad004800aa8e260894cfb22e\") {\n",
       "      outputDiv = document.getElementById(\"altair-viz-6a64bcafad004800aa8e260894cfb22e\");\n",
       "    }\n",
       "    const paths = {\n",
       "      \"vega\": \"https://cdn.jsdelivr.net/npm//vega@5?noext\",\n",
       "      \"vega-lib\": \"https://cdn.jsdelivr.net/npm//vega-lib?noext\",\n",
       "      \"vega-lite\": \"https://cdn.jsdelivr.net/npm//vega-lite@4.17.0?noext\",\n",
       "      \"vega-embed\": \"https://cdn.jsdelivr.net/npm//vega-embed@6?noext\",\n",
       "    };\n",
       "\n",
       "    function maybeLoadScript(lib, version) {\n",
       "      var key = `${lib.replace(\"-\", \"\")}_version`;\n",
       "      return (VEGA_DEBUG[key] == version) ?\n",
       "        Promise.resolve(paths[lib]) :\n",
       "        new Promise(function(resolve, reject) {\n",
       "          var s = document.createElement('script');\n",
       "          document.getElementsByTagName(\"head\")[0].appendChild(s);\n",
       "          s.async = true;\n",
       "          s.onload = () => {\n",
       "            VEGA_DEBUG[key] = version;\n",
       "            return resolve(paths[lib]);\n",
       "          };\n",
       "          s.onerror = () => reject(`Error loading script: ${paths[lib]}`);\n",
       "          s.src = paths[lib];\n",
       "        });\n",
       "    }\n",
       "\n",
       "    function showError(err) {\n",
       "      outputDiv.innerHTML = `<div class=\"error\" style=\"color:red;\">${err}</div>`;\n",
       "      throw err;\n",
       "    }\n",
       "\n",
       "    function displayChart(vegaEmbed) {\n",
       "      vegaEmbed(outputDiv, spec, embedOpt)\n",
       "        .catch(err => showError(`Javascript Error: ${err.message}<br>This usually means there's a typo in your chart specification. See the javascript console for the full traceback.`));\n",
       "    }\n",
       "\n",
       "    if(typeof define === \"function\" && define.amd) {\n",
       "      requirejs.config({paths});\n",
       "      require([\"vega-embed\"], displayChart, err => showError(`Error loading script: ${err.message}`));\n",
       "    } else {\n",
       "      maybeLoadScript(\"vega\", \"5\")\n",
       "        .then(() => maybeLoadScript(\"vega-lite\", \"4.17.0\"))\n",
       "        .then(() => maybeLoadScript(\"vega-embed\", \"6\"))\n",
       "        .catch(showError)\n",
       "        .then(() => displayChart(vegaEmbed));\n",
       "    }\n",
       "  })({\"config\": {\"view\": {\"continuousWidth\": 400, \"continuousHeight\": 300}, \"line\": {\"strokeWidth\": 2, \"opacity\": 0.7}}, \"data\": {\"name\": \"data-172bd2782f4668ccfd4549c6bd68ec52\"}, \"mark\": \"line\", \"encoding\": {\"color\": {\"field\": \"Hoods\", \"type\": \"nominal\"}, \"tooltip\": [{\"field\": \"Count_Openings\", \"format\": \".0f\", \"type\": \"quantitative\"}], \"x\": {\"axis\": {\"format\": \"d\", \"labelAngle\": 0, \"title\": \"Year\", \"titleFontSize\": 14}, \"field\": \"Start_Year\", \"scale\": {\"padding\": 0.01}, \"type\": \"ordinal\"}, \"y\": {\"axis\": {\"title\": \"Number of Openings\", \"titleFontSize\": 14}, \"field\": \"Count_Openings\", \"sort\": \"-x\", \"type\": \"quantitative\"}}, \"title\": {\"text\": \"Five Neighborhoods with Most Business Openings (2018-2022)\", \"fontSize\": 16}, \"width\": 500, \"$schema\": \"https://vega.github.io/schema/vega-lite/v4.17.0.json\", \"datasets\": {\"data-172bd2782f4668ccfd4549c6bd68ec52\": [{\"Hoods\": \"Bayview Hunters Point\", \"Start_Year\": \"2018\", \"Count_Openings\": 760}, {\"Hoods\": \"Bayview Hunters Point\", \"Start_Year\": \"2019\", \"Count_Openings\": 722}, {\"Hoods\": \"Bayview Hunters Point\", \"Start_Year\": \"2020\", \"Count_Openings\": 731}, {\"Hoods\": \"Bayview Hunters Point\", \"Start_Year\": \"2021\", \"Count_Openings\": 670}, {\"Hoods\": \"Bayview Hunters Point\", \"Start_Year\": \"2022\", \"Count_Openings\": 601}, {\"Hoods\": \"Financial District/South Beach\", \"Start_Year\": \"2018\", \"Count_Openings\": 2535}, {\"Hoods\": \"Financial District/South Beach\", \"Start_Year\": \"2019\", \"Count_Openings\": 2655}, {\"Hoods\": \"Financial District/South Beach\", \"Start_Year\": \"2020\", \"Count_Openings\": 1517}, {\"Hoods\": \"Financial District/South Beach\", \"Start_Year\": \"2021\", \"Count_Openings\": 1617}, {\"Hoods\": \"Financial District/South Beach\", \"Start_Year\": \"2022\", \"Count_Openings\": 1408}, {\"Hoods\": \"Mission\", \"Start_Year\": \"2018\", \"Count_Openings\": 1284}, {\"Hoods\": \"Mission\", \"Start_Year\": \"2019\", \"Count_Openings\": 1157}, {\"Hoods\": \"Mission\", \"Start_Year\": \"2020\", \"Count_Openings\": 787}, {\"Hoods\": \"Mission\", \"Start_Year\": \"2021\", \"Count_Openings\": 943}, {\"Hoods\": \"Mission\", \"Start_Year\": \"2022\", \"Count_Openings\": 928}, {\"Hoods\": \"South of Market\", \"Start_Year\": \"2018\", \"Count_Openings\": 1058}, {\"Hoods\": \"South of Market\", \"Start_Year\": \"2019\", \"Count_Openings\": 1327}, {\"Hoods\": \"South of Market\", \"Start_Year\": \"2020\", \"Count_Openings\": 906}, {\"Hoods\": \"South of Market\", \"Start_Year\": \"2021\", \"Count_Openings\": 1092}, {\"Hoods\": \"South of Market\", \"Start_Year\": \"2022\", \"Count_Openings\": 837}, {\"Hoods\": \"Sunset/Parkside\", \"Start_Year\": \"2018\", \"Count_Openings\": 703}, {\"Hoods\": \"Sunset/Parkside\", \"Start_Year\": \"2019\", \"Count_Openings\": 687}, {\"Hoods\": \"Sunset/Parkside\", \"Start_Year\": \"2020\", \"Count_Openings\": 574}, {\"Hoods\": \"Sunset/Parkside\", \"Start_Year\": \"2021\", \"Count_Openings\": 588}, {\"Hoods\": \"Sunset/Parkside\", \"Start_Year\": \"2022\", \"Count_Openings\": 535}]}}, {\"mode\": \"vega-lite\"});\n",
       "</script>"
      ],
      "text/plain": [
       "alt.Chart(...)"
      ]
     },
     "execution_count": 167,
     "metadata": {},
     "output_type": "execute_result"
    }
   ],
   "source": [
    "# Visualize top five neighborhoods by openings over the past five years\n",
    "alt.Chart(sf_biz_hood_line).mark_line().encode(\n",
    "    x=alt.X('Start_Year:O', axis=alt.Axis(title='Year', format='d', labelAngle=0, titleFontSize=14), scale=alt.Scale(padding=0.01)),\n",
    "    y=alt.Y(\"Count_Openings\", axis=alt.Axis(title='Number of Openings', titleFontSize=14), sort=\"-x\"),\n",
    "    color=\"Hoods\",\n",
    "    tooltip=[alt.Tooltip('Count_Openings', format='.0f')]\n",
    ").properties(\n",
    "    title=alt.TitleParams(\"Five Neighborhoods with Most Business Openings (2018-2022)\", fontSize=16),\n",
    "    width=500\n",
    ").configure_legend(\n",
    "    labelFontSize=11,\n",
    "    titleFontSize=14\n",
    ").configure(\n",
    "    line={\n",
    "        'strokeWidth': 2,  # change the line thickness\n",
    "        'opacity': 0.7,  # change the line opacity\n",
    "    }\n",
    ")"
   ]
  },
  {
   "cell_type": "markdown",
   "id": "ef4990cf-a430-4937-9f4a-2063ef82d34a",
   "metadata": {},
   "source": [
    "A2: Most business openings have occurred in Financial District/South Beach, South of Market, Mission, Bayview Hunters Point and Sunset/Parkside."
   ]
  },
  {
   "cell_type": "markdown",
   "id": "c27e809b-1f3d-4723-ac45-d88c908fe864",
   "metadata": {},
   "source": [
    "___________________________________________________________________________________________________________________"
   ]
  },
  {
   "cell_type": "markdown",
   "id": "b2d4a4ca-425b-4ebb-8795-04b8db975a32",
   "metadata": {},
   "source": [
    "#### Q3: How have restaurant openings changed in the past five years?"
   ]
  },
  {
   "cell_type": "code",
   "execution_count": 173,
   "id": "4692c0da-8e49-4ea2-a5b6-a22d416154bf",
   "metadata": {
    "tags": []
   },
   "outputs": [
    {
     "data": {
      "text/plain": [
       "H25    537\n",
       "H24    516\n",
       "J02    337\n",
       "H26    213\n",
       "H36    144\n",
       "H07    135\n",
       "H34    130\n",
       "H85    122\n",
       "H74    118\n",
       "Hhh    105\n",
       "Name: LIC Code, dtype: int64"
      ]
     },
     "execution_count": 173,
     "metadata": {},
     "output_type": "execute_result"
    }
   ],
   "source": [
    "sf_biz_industry[\"LIC Code\"].value_counts().head(10)"
   ]
  },
  {
   "cell_type": "code",
   "execution_count": 174,
   "id": "174d213a-56f1-48df-ad73-5bc8375ae485",
   "metadata": {
    "tags": []
   },
   "outputs": [],
   "source": [
    "sf_biz_industry.loc[sf_biz_industry[\"LIC Code\"].str.contains(\"H24|H25|H26\"), \"LIC Code\"] = \"restaurant\""
   ]
  },
  {
   "cell_type": "code",
   "execution_count": 175,
   "id": "4b3ad533-1053-403a-9a63-4ca1234429d7",
   "metadata": {
    "tags": []
   },
   "outputs": [],
   "source": [
    "# Consolidate all restaurant business locations by size (SMALL = LIC Code \"H24\", MEDIUM = LIC Code \"H25\", LARGE = LIC Code \"H26\")\n",
    "# sf_biz_industry[\"LIC Code Clean\"] = sf_biz_industry[\"LIC Code\"].apply(lambda x: \"H24\" if \"H24\" in x else (\"H25\" if \"H25\" in x else (\"H26\" if \"H26\" in x else x)))"
   ]
  },
  {
   "cell_type": "code",
   "execution_count": 176,
   "id": "f554fab8-c548-414c-9f92-524b16133585",
   "metadata": {
    "jupyter": {
     "source_hidden": true
    },
    "tags": []
   },
   "outputs": [],
   "source": [
    "# Consolidate LARGE restaurant business locations (LIC Code \"H26\")\n",
    "sf_biz_industry[\"LIC Code Clean\"] = sf_biz_industry[\"LIC Code\"].apply(lambda x: \"H26\" if \"H26\" in x else x)"
   ]
  },
  {
   "cell_type": "code",
   "execution_count": 223,
   "id": "182fb8aa-d219-40b2-9073-c74f5b42727d",
   "metadata": {
    "tags": []
   },
   "outputs": [
    {
     "data": {
      "text/plain": [
       "restaurant    4149\n",
       "H68            812\n",
       "Pos01          648\n",
       "J02            529\n",
       "Hhh            520\n",
       "D04            313\n",
       "D19            198\n",
       "H07            187\n",
       "H86            175\n",
       "H34            172\n",
       "Name: LIC Code, dtype: int64"
      ]
     },
     "execution_count": 223,
     "metadata": {},
     "output_type": "execute_result"
    }
   ],
   "source": [
    "sf_biz_industry[\"LIC Code\"].value_counts().head(10)"
   ]
  },
  {
   "cell_type": "code",
   "execution_count": 177,
   "id": "5a0bd432-3e73-4c3b-b96c-bb2a96d4960c",
   "metadata": {
    "tags": []
   },
   "outputs": [],
   "source": [
    "restaurant = (sf_biz_industry[\"LIC Code\"] == \"restaurant\") "
   ]
  },
  {
   "cell_type": "code",
   "execution_count": 179,
   "id": "bf568d8a-fc49-4fde-9753-e4694855e103",
   "metadata": {
    "tags": []
   },
   "outputs": [],
   "source": [
    "sf_biz_restaurant = sf_biz_industry[restaurant]"
   ]
  },
  {
   "cell_type": "code",
   "execution_count": 180,
   "id": "cf7e785f-1107-436a-9c0d-b3e682b4bcd7",
   "metadata": {
    "tags": []
   },
   "outputs": [],
   "source": [
    "sf_biz_restaurant_bar = sf_biz_restaurant.groupby([\"LIC Code\", \"Start_Year\"]).size().reset_index()"
   ]
  },
  {
   "cell_type": "code",
   "execution_count": 181,
   "id": "07b8ba20-e252-44b6-b952-ad76abafba25",
   "metadata": {
    "tags": []
   },
   "outputs": [],
   "source": [
    "sf_biz_restaurant_bar.rename(columns={0: \"Count_Openings\"}, inplace=True)"
   ]
  },
  {
   "cell_type": "code",
   "execution_count": 183,
   "id": "201e25d4-5f99-428f-9abc-6133f7120b03",
   "metadata": {
    "tags": []
   },
   "outputs": [],
   "source": [
    "sf_biz_restaurant_bar[\"Start_Year\"] = sf_biz_restaurant_bar[\"Start_Year\"].astype(str)"
   ]
  },
  {
   "cell_type": "code",
   "execution_count": 184,
   "id": "35a1d52d-c642-4dcd-a7ba-22e408d6e032",
   "metadata": {
    "tags": []
   },
   "outputs": [
    {
     "data": {
      "text/html": [
       "<div>\n",
       "<style scoped>\n",
       "    .dataframe tbody tr th:only-of-type {\n",
       "        vertical-align: middle;\n",
       "    }\n",
       "\n",
       "    .dataframe tbody tr th {\n",
       "        vertical-align: top;\n",
       "    }\n",
       "\n",
       "    .dataframe thead th {\n",
       "        text-align: right;\n",
       "    }\n",
       "</style>\n",
       "<table border=\"1\" class=\"dataframe\">\n",
       "  <thead>\n",
       "    <tr style=\"text-align: right;\">\n",
       "      <th></th>\n",
       "      <th>LIC Code</th>\n",
       "      <th>Start_Year</th>\n",
       "      <th>Count_Openings</th>\n",
       "    </tr>\n",
       "  </thead>\n",
       "  <tbody>\n",
       "    <tr>\n",
       "      <th>0</th>\n",
       "      <td>restaurant</td>\n",
       "      <td>2018</td>\n",
       "      <td>362</td>\n",
       "    </tr>\n",
       "    <tr>\n",
       "      <th>1</th>\n",
       "      <td>restaurant</td>\n",
       "      <td>2019</td>\n",
       "      <td>366</td>\n",
       "    </tr>\n",
       "    <tr>\n",
       "      <th>2</th>\n",
       "      <td>restaurant</td>\n",
       "      <td>2020</td>\n",
       "      <td>251</td>\n",
       "    </tr>\n",
       "    <tr>\n",
       "      <th>3</th>\n",
       "      <td>restaurant</td>\n",
       "      <td>2021</td>\n",
       "      <td>298</td>\n",
       "    </tr>\n",
       "    <tr>\n",
       "      <th>4</th>\n",
       "      <td>restaurant</td>\n",
       "      <td>2022</td>\n",
       "      <td>279</td>\n",
       "    </tr>\n",
       "  </tbody>\n",
       "</table>\n",
       "</div>"
      ],
      "text/plain": [
       "     LIC Code Start_Year  Count_Openings\n",
       "0  restaurant       2018             362\n",
       "1  restaurant       2019             366\n",
       "2  restaurant       2020             251\n",
       "3  restaurant       2021             298\n",
       "4  restaurant       2022             279"
      ]
     },
     "execution_count": 184,
     "metadata": {},
     "output_type": "execute_result"
    }
   ],
   "source": [
    "sf_biz_restaurant_bar.head()"
   ]
  },
  {
   "cell_type": "code",
   "execution_count": 189,
   "id": "b6134bf3-22eb-4fab-b4f2-675f03a062e7",
   "metadata": {
    "tags": []
   },
   "outputs": [
    {
     "data": {
      "text/html": [
       "\n",
       "<div id=\"altair-viz-fe23a45741fc486e8ec068e0756caff3\"></div>\n",
       "<script type=\"text/javascript\">\n",
       "  var VEGA_DEBUG = (typeof VEGA_DEBUG == \"undefined\") ? {} : VEGA_DEBUG;\n",
       "  (function(spec, embedOpt){\n",
       "    let outputDiv = document.currentScript.previousElementSibling;\n",
       "    if (outputDiv.id !== \"altair-viz-fe23a45741fc486e8ec068e0756caff3\") {\n",
       "      outputDiv = document.getElementById(\"altair-viz-fe23a45741fc486e8ec068e0756caff3\");\n",
       "    }\n",
       "    const paths = {\n",
       "      \"vega\": \"https://cdn.jsdelivr.net/npm//vega@5?noext\",\n",
       "      \"vega-lib\": \"https://cdn.jsdelivr.net/npm//vega-lib?noext\",\n",
       "      \"vega-lite\": \"https://cdn.jsdelivr.net/npm//vega-lite@4.17.0?noext\",\n",
       "      \"vega-embed\": \"https://cdn.jsdelivr.net/npm//vega-embed@6?noext\",\n",
       "    };\n",
       "\n",
       "    function maybeLoadScript(lib, version) {\n",
       "      var key = `${lib.replace(\"-\", \"\")}_version`;\n",
       "      return (VEGA_DEBUG[key] == version) ?\n",
       "        Promise.resolve(paths[lib]) :\n",
       "        new Promise(function(resolve, reject) {\n",
       "          var s = document.createElement('script');\n",
       "          document.getElementsByTagName(\"head\")[0].appendChild(s);\n",
       "          s.async = true;\n",
       "          s.onload = () => {\n",
       "            VEGA_DEBUG[key] = version;\n",
       "            return resolve(paths[lib]);\n",
       "          };\n",
       "          s.onerror = () => reject(`Error loading script: ${paths[lib]}`);\n",
       "          s.src = paths[lib];\n",
       "        });\n",
       "    }\n",
       "\n",
       "    function showError(err) {\n",
       "      outputDiv.innerHTML = `<div class=\"error\" style=\"color:red;\">${err}</div>`;\n",
       "      throw err;\n",
       "    }\n",
       "\n",
       "    function displayChart(vegaEmbed) {\n",
       "      vegaEmbed(outputDiv, spec, embedOpt)\n",
       "        .catch(err => showError(`Javascript Error: ${err.message}<br>This usually means there's a typo in your chart specification. See the javascript console for the full traceback.`));\n",
       "    }\n",
       "\n",
       "    if(typeof define === \"function\" && define.amd) {\n",
       "      requirejs.config({paths});\n",
       "      require([\"vega-embed\"], displayChart, err => showError(`Error loading script: ${err.message}`));\n",
       "    } else {\n",
       "      maybeLoadScript(\"vega\", \"5\")\n",
       "        .then(() => maybeLoadScript(\"vega-lite\", \"4.17.0\"))\n",
       "        .then(() => maybeLoadScript(\"vega-embed\", \"6\"))\n",
       "        .catch(showError)\n",
       "        .then(() => displayChart(vegaEmbed));\n",
       "    }\n",
       "  })({\"config\": {\"view\": {\"continuousWidth\": 400, \"continuousHeight\": 300}, \"mark\": {\"color\": \"red\", \"opacity\": 0.2}}, \"data\": {\"name\": \"data-d907f4bbff885ecbbc5c859aae815696\"}, \"mark\": {\"type\": \"bar\", \"size\": 50}, \"encoding\": {\"tooltip\": [{\"field\": \"Count_Openings\", \"format\": \".0f\", \"type\": \"quantitative\"}], \"x\": {\"axis\": {\"format\": \"d\", \"labelAngle\": 0, \"title\": \"Year\"}, \"field\": \"Start_Year\", \"scale\": {\"padding\": 0.01}, \"type\": \"ordinal\"}, \"y\": {\"axis\": {\"title\": \"Number of Openings\"}, \"field\": \"Count_Openings\", \"scale\": {\"domain\": [0, 450]}, \"sort\": \"-y\", \"type\": \"quantitative\"}}, \"title\": \"Restaurant Openings in San Francisco (2018-2022)\", \"width\": 500, \"$schema\": \"https://vega.github.io/schema/vega-lite/v4.17.0.json\", \"datasets\": {\"data-d907f4bbff885ecbbc5c859aae815696\": [{\"LIC Code\": \"restaurant\", \"Start_Year\": \"2018\", \"Count_Openings\": 362}, {\"LIC Code\": \"restaurant\", \"Start_Year\": \"2019\", \"Count_Openings\": 366}, {\"LIC Code\": \"restaurant\", \"Start_Year\": \"2020\", \"Count_Openings\": 251}, {\"LIC Code\": \"restaurant\", \"Start_Year\": \"2021\", \"Count_Openings\": 298}, {\"LIC Code\": \"restaurant\", \"Start_Year\": \"2022\", \"Count_Openings\": 279}]}}, {\"mode\": \"vega-lite\"});\n",
       "</script>"
      ],
      "text/plain": [
       "alt.Chart(...)"
      ]
     },
     "execution_count": 189,
     "metadata": {},
     "output_type": "execute_result"
    }
   ],
   "source": [
    "# Visualize findings in a bar graph\n",
    "chart = alt.Chart(sf_biz_restaurant_bar).mark_bar(size=50).encode(\n",
    "    x=alt.X('Start_Year:O', axis=alt.Axis(title='Year', format='d', labelAngle=0), scale=alt.Scale(padding=0.01)),\n",
    "    y=alt.Y('Count_Openings:Q', sort='-y', axis=alt.Axis(title='Number of Openings'), scale=alt.Scale(domain=[0, 450])),\n",
    "    tooltip=[alt.Tooltip('Count_Openings:Q', format='.0f')]\n",
    ").properties(\n",
    "    title='Restaurant Openings in San Francisco (2018-2022)',\n",
    "    width=500\n",
    ").configure_mark(\n",
    "    opacity=0.2,\n",
    "    color='red'\n",
    "    )\n",
    "\n",
    "# display chart\n",
    "chart"
   ]
  },
  {
   "cell_type": "markdown",
   "id": "375a0372-5874-48f4-b4be-a2598b7c72c7",
   "metadata": {},
   "source": [
    "A3: Restaurant openings have declined overall in the past five years. After a significant drop between 2019 and 2020, restaurants rebounded briefly in 2021 before declining again in 2022."
   ]
  },
  {
   "cell_type": "markdown",
   "id": "9d46a8da-ff27-42d9-821c-2290e9408472",
   "metadata": {},
   "source": [
    "___________________________________________________________________________________________________________________"
   ]
  },
  {
   "cell_type": "markdown",
   "id": "5817a959-db0e-4a26-b927-96e3324c17b8",
   "metadata": {},
   "source": [
    "#### Q4: How have restaurant openings changed in the past five years by neighborhood?"
   ]
  },
  {
   "cell_type": "code",
   "execution_count": 190,
   "id": "6acc4879-925a-49ec-93f0-567c01d1e5f1",
   "metadata": {
    "collapsed": true,
    "jupyter": {
     "outputs_hidden": true
    },
    "tags": []
   },
   "outputs": [
    {
     "data": {
      "text/plain": [
       "Financial District/South Beach    179\n",
       "Mission                           166\n",
       "Tenderloin                        128\n",
       "South of Market                    89\n",
       "Chinatown                          80\n",
       "Sunset/Parkside                    71\n",
       "Marina                             70\n",
       "Outer Richmond                     68\n",
       "Hayes Valley                       55\n",
       "Mission Bay                        54\n",
       "Nob Hill                           53\n",
       "Russian Hill                       46\n",
       "North Beach                        46\n",
       "Inner Richmond                     41\n",
       "Inner Sunset                       37\n",
       "Castro/Upper Market                36\n",
       "Bernal Heights                     32\n",
       "Lakeshore                          31\n",
       "West of Twin Peaks                 27\n",
       "Japantown                          25\n",
       "Western Addition                   24\n",
       "Haight Ashbury                     24\n",
       "Noe Valley                         22\n",
       "Pacific Heights                    20\n",
       "Potrero Hill                       19\n",
       "Excelsior                          18\n",
       "Bayview Hunters Point              17\n",
       "Outer Mission                      17\n",
       "Portola                            15\n",
       "Oceanview/Merced/Ingleside         15\n",
       "Lone Mountain/USF                   8\n",
       "Presidio Heights                    8\n",
       "Glen Park                           5\n",
       "Visitacion Valley                   5\n",
       "Golden Gate Park                    2\n",
       "Name: Hoods, dtype: int64"
      ]
     },
     "execution_count": 190,
     "metadata": {},
     "output_type": "execute_result"
    }
   ],
   "source": [
    "sf_biz_restaurant[\"Hoods\"].value_counts()"
   ]
  },
  {
   "cell_type": "markdown",
   "id": "2f64b63f-edaa-4e6c-8420-3a6899a8e6bf",
   "metadata": {},
   "source": [
    "Describe why we choose to use the top 3: Financial District/South Beach, Mission and Tenderloin."
   ]
  },
  {
   "cell_type": "code",
   "execution_count": 191,
   "id": "eb95d75b-60ce-44a0-a939-2ea708963c54",
   "metadata": {
    "tags": []
   },
   "outputs": [],
   "source": [
    "hood = (sf_biz_restaurant.Hoods == \"Financial District/South Beach\") | (sf_biz_restaurant.Hoods == \"Mission\") | (sf_biz_restaurant.Hoods == \"Tenderloin\")"
   ]
  },
  {
   "cell_type": "code",
   "execution_count": 192,
   "id": "42cc642a-26ef-4026-893d-7b3e730861ab",
   "metadata": {
    "tags": []
   },
   "outputs": [],
   "source": [
    "sf_biz_restaurant_hood = sf_biz_restaurant[hood]"
   ]
  },
  {
   "cell_type": "code",
   "execution_count": 196,
   "id": "23ebb4b8-051e-49a8-a867-629c1013efea",
   "metadata": {
    "tags": []
   },
   "outputs": [],
   "source": [
    "sf_restaurant_hood_line = sf_biz_restaurant_hood.groupby([\"Hoods\", \"Start_Year\"]).size().reset_index()"
   ]
  },
  {
   "cell_type": "code",
   "execution_count": 197,
   "id": "78a0248e-9af1-4e89-a0e5-26c996fe0f7e",
   "metadata": {
    "tags": []
   },
   "outputs": [],
   "source": [
    "sf_restaurant_hood_line = sf_restaurant_hood_line.rename(columns={0:\"Count_Openings\"})"
   ]
  },
  {
   "cell_type": "code",
   "execution_count": 198,
   "id": "bd9e6f8a-bef4-43a3-9bb4-b69bf3676532",
   "metadata": {
    "tags": []
   },
   "outputs": [],
   "source": [
    "sf_restaurant_hood_line[\"Start_Year\"] = sf_restaurant_hood_line[\"Start_Year\"].astype(str)"
   ]
  },
  {
   "cell_type": "code",
   "execution_count": 205,
   "id": "c08d7d05-5c5c-4488-b30b-fefb6b46ba51",
   "metadata": {
    "tags": []
   },
   "outputs": [
    {
     "data": {
      "text/html": [
       "\n",
       "<div id=\"altair-viz-537019977434446b9b3ea241cffa4d52\"></div>\n",
       "<script type=\"text/javascript\">\n",
       "  var VEGA_DEBUG = (typeof VEGA_DEBUG == \"undefined\") ? {} : VEGA_DEBUG;\n",
       "  (function(spec, embedOpt){\n",
       "    let outputDiv = document.currentScript.previousElementSibling;\n",
       "    if (outputDiv.id !== \"altair-viz-537019977434446b9b3ea241cffa4d52\") {\n",
       "      outputDiv = document.getElementById(\"altair-viz-537019977434446b9b3ea241cffa4d52\");\n",
       "    }\n",
       "    const paths = {\n",
       "      \"vega\": \"https://cdn.jsdelivr.net/npm//vega@5?noext\",\n",
       "      \"vega-lib\": \"https://cdn.jsdelivr.net/npm//vega-lib?noext\",\n",
       "      \"vega-lite\": \"https://cdn.jsdelivr.net/npm//vega-lite@4.17.0?noext\",\n",
       "      \"vega-embed\": \"https://cdn.jsdelivr.net/npm//vega-embed@6?noext\",\n",
       "    };\n",
       "\n",
       "    function maybeLoadScript(lib, version) {\n",
       "      var key = `${lib.replace(\"-\", \"\")}_version`;\n",
       "      return (VEGA_DEBUG[key] == version) ?\n",
       "        Promise.resolve(paths[lib]) :\n",
       "        new Promise(function(resolve, reject) {\n",
       "          var s = document.createElement('script');\n",
       "          document.getElementsByTagName(\"head\")[0].appendChild(s);\n",
       "          s.async = true;\n",
       "          s.onload = () => {\n",
       "            VEGA_DEBUG[key] = version;\n",
       "            return resolve(paths[lib]);\n",
       "          };\n",
       "          s.onerror = () => reject(`Error loading script: ${paths[lib]}`);\n",
       "          s.src = paths[lib];\n",
       "        });\n",
       "    }\n",
       "\n",
       "    function showError(err) {\n",
       "      outputDiv.innerHTML = `<div class=\"error\" style=\"color:red;\">${err}</div>`;\n",
       "      throw err;\n",
       "    }\n",
       "\n",
       "    function displayChart(vegaEmbed) {\n",
       "      vegaEmbed(outputDiv, spec, embedOpt)\n",
       "        .catch(err => showError(`Javascript Error: ${err.message}<br>This usually means there's a typo in your chart specification. See the javascript console for the full traceback.`));\n",
       "    }\n",
       "\n",
       "    if(typeof define === \"function\" && define.amd) {\n",
       "      requirejs.config({paths});\n",
       "      require([\"vega-embed\"], displayChart, err => showError(`Error loading script: ${err.message}`));\n",
       "    } else {\n",
       "      maybeLoadScript(\"vega\", \"5\")\n",
       "        .then(() => maybeLoadScript(\"vega-lite\", \"4.17.0\"))\n",
       "        .then(() => maybeLoadScript(\"vega-embed\", \"6\"))\n",
       "        .catch(showError)\n",
       "        .then(() => displayChart(vegaEmbed));\n",
       "    }\n",
       "  })({\"config\": {\"view\": {\"continuousWidth\": 400, \"continuousHeight\": 300}, \"line\": {\"strokeWidth\": 2, \"opacity\": 0.7}}, \"data\": {\"name\": \"data-5df74d6da53f6f1ff586a811613d35f8\"}, \"mark\": \"line\", \"encoding\": {\"color\": {\"field\": \"Hoods\", \"type\": \"nominal\"}, \"tooltip\": [{\"field\": \"Count_Openings\", \"format\": \".0f\", \"type\": \"quantitative\"}], \"x\": {\"axis\": {\"format\": \"d\", \"labelAngle\": 0, \"title\": \"Year\", \"titleFontSize\": 14}, \"field\": \"Start_Year\", \"scale\": {\"padding\": 0.01}, \"type\": \"ordinal\"}, \"y\": {\"axis\": {\"title\": \"Number of Openings\", \"titleFontSize\": 14}, \"field\": \"Count_Openings\", \"sort\": \"-x\", \"type\": \"quantitative\"}}, \"title\": {\"text\": \"Restaurant Openings in Financial District, Mission & Tenderloin (2018-2022)\", \"fontSize\": 15}, \"width\": 500, \"$schema\": \"https://vega.github.io/schema/vega-lite/v4.17.0.json\", \"datasets\": {\"data-5df74d6da53f6f1ff586a811613d35f8\": [{\"Hoods\": \"Financial District/South Beach\", \"Start_Year\": \"2018\", \"Count_Openings\": 50}, {\"Hoods\": \"Financial District/South Beach\", \"Start_Year\": \"2019\", \"Count_Openings\": 38}, {\"Hoods\": \"Financial District/South Beach\", \"Start_Year\": \"2020\", \"Count_Openings\": 21}, {\"Hoods\": \"Financial District/South Beach\", \"Start_Year\": \"2021\", \"Count_Openings\": 29}, {\"Hoods\": \"Financial District/South Beach\", \"Start_Year\": \"2022\", \"Count_Openings\": 41}, {\"Hoods\": \"Mission\", \"Start_Year\": \"2018\", \"Count_Openings\": 33}, {\"Hoods\": \"Mission\", \"Start_Year\": \"2019\", \"Count_Openings\": 43}, {\"Hoods\": \"Mission\", \"Start_Year\": \"2020\", \"Count_Openings\": 29}, {\"Hoods\": \"Mission\", \"Start_Year\": \"2021\", \"Count_Openings\": 39}, {\"Hoods\": \"Mission\", \"Start_Year\": \"2022\", \"Count_Openings\": 22}, {\"Hoods\": \"Tenderloin\", \"Start_Year\": \"2018\", \"Count_Openings\": 25}, {\"Hoods\": \"Tenderloin\", \"Start_Year\": \"2019\", \"Count_Openings\": 22}, {\"Hoods\": \"Tenderloin\", \"Start_Year\": \"2020\", \"Count_Openings\": 25}, {\"Hoods\": \"Tenderloin\", \"Start_Year\": \"2021\", \"Count_Openings\": 20}, {\"Hoods\": \"Tenderloin\", \"Start_Year\": \"2022\", \"Count_Openings\": 36}]}}, {\"mode\": \"vega-lite\"});\n",
       "</script>"
      ],
      "text/plain": [
       "alt.Chart(...)"
      ]
     },
     "execution_count": 205,
     "metadata": {},
     "output_type": "execute_result"
    }
   ],
   "source": [
    "# Visualize top five neighborhoods by openings over the past five years\n",
    "chart = alt.Chart(sf_restaurant_hood_line).mark_line().encode(\n",
    "    x=alt.X('Start_Year:O', axis=alt.Axis(title='Year', format='d', labelAngle=0, titleFontSize=14), scale=alt.Scale(padding=0.01)),\n",
    "    y=alt.Y(\"Count_Openings\", axis=alt.Axis(title='Number of Openings', titleFontSize=14), sort=\"-x\"),\n",
    "    color=\"Hoods\",\n",
    "    tooltip=[alt.Tooltip('Count_Openings', format='.0f')]\n",
    ").properties(\n",
    "    title=alt.TitleParams(\"Restaurant Openings in Financial District, Mission & Tenderloin (2018-2022)\", fontSize=15),\n",
    "    width=500\n",
    ").configure_legend(\n",
    "    labelFontSize=11,\n",
    "    titleFontSize=14\n",
    ").configure(\n",
    "    line={\n",
    "        'strokeWidth': 2,  # change the line thickness\n",
    "        'opacity': 0.7,  # change the line opacity\n",
    "    }\n",
    ")\n",
    "\n",
    "# display chart\n",
    "chart"
   ]
  },
  {
   "cell_type": "markdown",
   "id": "3c5b7694-1013-4ab8-b534-c85fe194db52",
   "metadata": {},
   "source": [
    "A4: Tenderloin experienced an increase in restaurants in the past five years, while Financial District/South Beach and Mission saw an overall decrease. However, restaurant openings in the Financial District have steadily increased since 2020, but still are not back to pre-pandemic levels."
   ]
  }
 ],
 "metadata": {
  "kernelspec": {
   "display_name": "Python 3 (ipykernel)",
   "language": "python",
   "name": "python3"
  },
  "language_info": {
   "codemirror_mode": {
    "name": "ipython",
    "version": 3
   },
   "file_extension": ".py",
   "mimetype": "text/x-python",
   "name": "python",
   "nbconvert_exporter": "python",
   "pygments_lexer": "ipython3",
   "version": "3.10.9"
  }
 },
 "nbformat": 4,
 "nbformat_minor": 5
}
